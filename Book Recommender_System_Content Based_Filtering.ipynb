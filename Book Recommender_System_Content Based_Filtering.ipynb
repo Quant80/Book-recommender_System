{
  "cells": [
    {
      "cell_type": "markdown",
      "source": [
        "##**Book Recommendation System**"
      ],
      "metadata": {
        "id": "5LBfthjY-OiB"
      },
      "id": "5LBfthjY-OiB"
    },
    {
      "cell_type": "markdown",
      "source": [
        "Recommendation systems are widely used today to recommend products to users based on their interests. \n",
        "A recommendation system is one of the strongest systems for increasing profits by retaining more users in a very big competition.\n",
        " In project, I’ll walk you through how to build a book recommendation system with Machine Learning using the Python programming language."
      ],
      "metadata": {
        "id": "2LcxLz0K-pSn"
      },
      "id": "2LcxLz0K-pSn"
    },
    {
      "cell_type": "markdown",
      "source": [
        "Recommendation systems are widely used today to recommend products to users based on their interests. A recommendation system is one of the strongest systems for increasing profits by retaining more users in a very big competition. In this mini_projectt, I’ll   walk you through how to build a book recommendation system with Machine Learning using the Python programming language."
      ],
      "metadata": {
        "id": "OeOfv5wd_G7N"
      },
      "id": "OeOfv5wd_G7N"
    },
    {
      "cell_type": "markdown",
      "source": [
        "The purpose of a book recommendation system is to predict buyer’s interest and recommend books to them accordingly. A book recommendation system can take into account many parameters like book content and book quality by filtering user reviews."
      ],
      "metadata": {
        "id": "CdFM1eiD-kOe"
      },
      "id": "CdFM1eiD-kOe"
    },
    {
      "cell_type": "markdown",
      "id": "a6ac879c",
      "metadata": {
        "papermill": {
          "duration": 0.012148,
          "end_time": "2022-08-12T06:18:52.279192",
          "exception": false,
          "start_time": "2022-08-12T06:18:52.267044",
          "status": "completed"
        },
        "tags": [],
        "id": "a6ac879c"
      },
      "source": [
        "# Content based Filtering\n",
        "\n",
        "In the content based filtering we generate two vectors, a user vector and an item vector whose dot product would predict a rating. Information about the users and items are provided to a neural network which then generates the user and item vector"
      ]
    },
    {
      "cell_type": "code",
      "source": [
        "from google.colab import drive\n",
        "drive.mount('/content/drive')"
      ],
      "metadata": {
        "colab": {
          "base_uri": "https://localhost:8080/"
        },
        "id": "iom_YQMtwqkt",
        "outputId": "da44cea6-79ba-4136-9c5b-6b801103d646"
      },
      "id": "iom_YQMtwqkt",
      "execution_count": null,
      "outputs": [
        {
          "output_type": "stream",
          "name": "stdout",
          "text": [
            "Drive already mounted at /content/drive; to attempt to forcibly remount, call drive.mount(\"/content/drive\", force_remount=True).\n"
          ]
        }
      ]
    },
    {
      "cell_type": "code",
      "execution_count": null,
      "id": "33080693",
      "metadata": {
        "execution": {
          "iopub.execute_input": "2022-08-12T06:18:52.295098Z",
          "iopub.status.busy": "2022-08-12T06:18:52.294281Z",
          "iopub.status.idle": "2022-08-12T06:19:00.545557Z",
          "shell.execute_reply": "2022-08-12T06:19:00.544119Z"
        },
        "papermill": {
          "duration": 8.263025,
          "end_time": "2022-08-12T06:19:00.548938",
          "exception": false,
          "start_time": "2022-08-12T06:18:52.285913",
          "status": "completed"
        },
        "tags": [],
        "id": "33080693"
      },
      "outputs": [],
      "source": [
        "import numpy as np\n",
        "import pandas as pd\n",
        "\n",
        "from sklearn.impute import SimpleImputer\n",
        "from sklearn.preprocessing import StandardScaler, MinMaxScaler, FunctionTransformer\n",
        "from sklearn.feature_extraction.text import TfidfVectorizer\n",
        "from sklearn.pipeline import Pipeline\n",
        "from sklearn.compose import ColumnTransformer\n",
        "from sklearn.utils import estimator_html_repr\n",
        "\n",
        "import joblib\n",
        "from IPython.core.display import HTML\n",
        "\n",
        "import tensorflow as tf\n",
        "from tensorflow import keras\n",
        "from tensorflow.keras import models, layers, utils, optimizers, callbacks\n",
        "\n",
        "from sklearn.model_selection import train_test_split"
      ]
    },
    {
      "cell_type": "markdown",
      "id": "57197488",
      "metadata": {
        "papermill": {
          "duration": 0.006269,
          "end_time": "2022-08-12T06:19:00.561957",
          "exception": false,
          "start_time": "2022-08-12T06:19:00.555688",
          "status": "completed"
        },
        "tags": [],
        "id": "57197488"
      },
      "source": [
        "# Data"
      ]
    },
    {
      "cell_type": "code",
      "execution_count": null,
      "id": "0719a414",
      "metadata": {
        "execution": {
          "iopub.execute_input": "2022-08-12T06:19:00.576677Z",
          "iopub.status.busy": "2022-08-12T06:19:00.576043Z",
          "iopub.status.idle": "2022-08-12T06:19:01.951967Z",
          "shell.execute_reply": "2022-08-12T06:19:01.949260Z"
        },
        "papermill": {
          "duration": 1.387762,
          "end_time": "2022-08-12T06:19:01.956001",
          "exception": false,
          "start_time": "2022-08-12T06:19:00.568239",
          "status": "completed"
        },
        "tags": [],
        "colab": {
          "base_uri": "https://localhost:8080/"
        },
        "id": "0719a414",
        "outputId": "1e3ed717-10d2-4e67-996d-fd4b35d7b1d4"
      },
      "outputs": [
        {
          "output_type": "stream",
          "name": "stderr",
          "text": [
            "/usr/local/lib/python3.8/dist-packages/IPython/core/interactiveshell.py:3326: FutureWarning: The error_bad_lines argument has been deprecated and will be removed in a future version.\n",
            "\n",
            "\n",
            "  exec(code_obj, self.user_global_ns, self.user_ns)\n",
            "b'Skipping line 6452: expected 8 fields, saw 9\\nSkipping line 43667: expected 8 fields, saw 9\\nSkipping line 51751: expected 8 fields, saw 9\\n'\n",
            "b'Skipping line 92038: expected 8 fields, saw 9\\nSkipping line 104319: expected 8 fields, saw 9\\nSkipping line 121768: expected 8 fields, saw 9\\n'\n",
            "b'Skipping line 144058: expected 8 fields, saw 9\\nSkipping line 150789: expected 8 fields, saw 9\\nSkipping line 157128: expected 8 fields, saw 9\\nSkipping line 180189: expected 8 fields, saw 9\\nSkipping line 185738: expected 8 fields, saw 9\\n'\n",
            "b'Skipping line 209388: expected 8 fields, saw 9\\nSkipping line 220626: expected 8 fields, saw 9\\nSkipping line 227933: expected 8 fields, saw 11\\nSkipping line 228957: expected 8 fields, saw 10\\nSkipping line 245933: expected 8 fields, saw 9\\nSkipping line 251296: expected 8 fields, saw 9\\nSkipping line 259941: expected 8 fields, saw 9\\nSkipping line 261529: expected 8 fields, saw 9\\n'\n",
            "/usr/local/lib/python3.8/dist-packages/IPython/core/interactiveshell.py:3326: DtypeWarning: Columns (3) have mixed types.Specify dtype option on import or set low_memory=False.\n",
            "  exec(code_obj, self.user_global_ns, self.user_ns)\n"
          ]
        }
      ],
      "source": [
        "ratings=pd.read_csv(\"/content/drive/MyDrive/final_project/Book-Ratings.csv\",delimiter=\";\",encoding= 'unicode_escape')\n",
        "users=pd.read_csv(\"/content/drive/MyDrive/final_project/Users.csv\",delimiter=\";\",encoding= 'unicode_escape')\n",
        "books=pd.read_csv(\"/content/drive/MyDrive/final_project/books.csv\",delimiter=\";\",encoding= 'unicode_escape', error_bad_lines=False)"
      ]
    },
    {
      "cell_type": "code",
      "execution_count": null,
      "id": "b9db45c9",
      "metadata": {
        "execution": {
          "iopub.execute_input": "2022-08-12T06:19:04.675151Z",
          "iopub.status.busy": "2022-08-12T06:19:04.674827Z",
          "iopub.status.idle": "2022-08-12T06:19:04.834546Z",
          "shell.execute_reply": "2022-08-12T06:19:04.833137Z"
        },
        "papermill": {
          "duration": 0.171172,
          "end_time": "2022-08-12T06:19:04.837767",
          "exception": false,
          "start_time": "2022-08-12T06:19:04.666595",
          "status": "completed"
        },
        "tags": [],
        "id": "b9db45c9"
      },
      "outputs": [],
      "source": [
        "#data manipulation\n",
        "books['Year-Of-Publication'] = books['Year-Of-Publication'].replace('DK Publishing Inc', np.nan).replace('Gallimard', np.nan).replace('Canterbury Press', np.nan).astype(float)\n"
      ]
    },
    {
      "cell_type": "code",
      "execution_count": null,
      "id": "28eab57f",
      "metadata": {
        "execution": {
          "iopub.execute_input": "2022-08-12T06:19:05.262947Z",
          "iopub.status.busy": "2022-08-12T06:19:05.262587Z",
          "iopub.status.idle": "2022-08-12T06:19:07.276136Z",
          "shell.execute_reply": "2022-08-12T06:19:07.274826Z"
        },
        "papermill": {
          "duration": 2.025164,
          "end_time": "2022-08-12T06:19:07.278869",
          "exception": false,
          "start_time": "2022-08-12T06:19:05.253705",
          "status": "completed"
        },
        "tags": [],
        "colab": {
          "base_uri": "https://localhost:8080/",
          "height": 346
        },
        "id": "28eab57f",
        "outputId": "b283dc50-e235-42a0-e84f-250d373dab4a"
      },
      "outputs": [
        {
          "output_type": "execute_result",
          "data": {
            "text/plain": [
              "   User-ID        ISBN  Book-Rating                       Location   Age  \\\n",
              "0   276725  034545104X            0              tyler, texas, usa   NaN   \n",
              "1   276726  0155061224            5       seattle, washington, usa   NaN   \n",
              "2   276727  0446520802            0  h, new south wales, australia  16.0   \n",
              "\n",
              "             Book-Title      Book-Author  Year-Of-Publication  \\\n",
              "0  Flesh Tones: A Novel       M. J. Rose               2002.0   \n",
              "1      Rites of Passage       Judith Rae               2001.0   \n",
              "2          The Notebook  Nicholas Sparks               1996.0   \n",
              "\n",
              "          Publisher                                        Image-URL-S  \\\n",
              "0  Ballantine Books  http://images.amazon.com/images/P/034545104X.0...   \n",
              "1            Heinle  http://images.amazon.com/images/P/0155061224.0...   \n",
              "2      Warner Books  http://images.amazon.com/images/P/0446520802.0...   \n",
              "\n",
              "                                         Image-URL-M  \\\n",
              "0  http://images.amazon.com/images/P/034545104X.0...   \n",
              "1  http://images.amazon.com/images/P/0155061224.0...   \n",
              "2  http://images.amazon.com/images/P/0446520802.0...   \n",
              "\n",
              "                                         Image-URL-L  \n",
              "0  http://images.amazon.com/images/P/034545104X.0...  \n",
              "1  http://images.amazon.com/images/P/0155061224.0...  \n",
              "2  http://images.amazon.com/images/P/0446520802.0...  "
            ],
            "text/html": [
              "\n",
              "  <div id=\"df-31450070-b2b7-4e06-99e9-2b1ca04fd782\">\n",
              "    <div class=\"colab-df-container\">\n",
              "      <div>\n",
              "<style scoped>\n",
              "    .dataframe tbody tr th:only-of-type {\n",
              "        vertical-align: middle;\n",
              "    }\n",
              "\n",
              "    .dataframe tbody tr th {\n",
              "        vertical-align: top;\n",
              "    }\n",
              "\n",
              "    .dataframe thead th {\n",
              "        text-align: right;\n",
              "    }\n",
              "</style>\n",
              "<table border=\"1\" class=\"dataframe\">\n",
              "  <thead>\n",
              "    <tr style=\"text-align: right;\">\n",
              "      <th></th>\n",
              "      <th>User-ID</th>\n",
              "      <th>ISBN</th>\n",
              "      <th>Book-Rating</th>\n",
              "      <th>Location</th>\n",
              "      <th>Age</th>\n",
              "      <th>Book-Title</th>\n",
              "      <th>Book-Author</th>\n",
              "      <th>Year-Of-Publication</th>\n",
              "      <th>Publisher</th>\n",
              "      <th>Image-URL-S</th>\n",
              "      <th>Image-URL-M</th>\n",
              "      <th>Image-URL-L</th>\n",
              "    </tr>\n",
              "  </thead>\n",
              "  <tbody>\n",
              "    <tr>\n",
              "      <th>0</th>\n",
              "      <td>276725</td>\n",
              "      <td>034545104X</td>\n",
              "      <td>0</td>\n",
              "      <td>tyler, texas, usa</td>\n",
              "      <td>NaN</td>\n",
              "      <td>Flesh Tones: A Novel</td>\n",
              "      <td>M. J. Rose</td>\n",
              "      <td>2002.0</td>\n",
              "      <td>Ballantine Books</td>\n",
              "      <td>http://images.amazon.com/images/P/034545104X.0...</td>\n",
              "      <td>http://images.amazon.com/images/P/034545104X.0...</td>\n",
              "      <td>http://images.amazon.com/images/P/034545104X.0...</td>\n",
              "    </tr>\n",
              "    <tr>\n",
              "      <th>1</th>\n",
              "      <td>276726</td>\n",
              "      <td>0155061224</td>\n",
              "      <td>5</td>\n",
              "      <td>seattle, washington, usa</td>\n",
              "      <td>NaN</td>\n",
              "      <td>Rites of Passage</td>\n",
              "      <td>Judith Rae</td>\n",
              "      <td>2001.0</td>\n",
              "      <td>Heinle</td>\n",
              "      <td>http://images.amazon.com/images/P/0155061224.0...</td>\n",
              "      <td>http://images.amazon.com/images/P/0155061224.0...</td>\n",
              "      <td>http://images.amazon.com/images/P/0155061224.0...</td>\n",
              "    </tr>\n",
              "    <tr>\n",
              "      <th>2</th>\n",
              "      <td>276727</td>\n",
              "      <td>0446520802</td>\n",
              "      <td>0</td>\n",
              "      <td>h, new south wales, australia</td>\n",
              "      <td>16.0</td>\n",
              "      <td>The Notebook</td>\n",
              "      <td>Nicholas Sparks</td>\n",
              "      <td>1996.0</td>\n",
              "      <td>Warner Books</td>\n",
              "      <td>http://images.amazon.com/images/P/0446520802.0...</td>\n",
              "      <td>http://images.amazon.com/images/P/0446520802.0...</td>\n",
              "      <td>http://images.amazon.com/images/P/0446520802.0...</td>\n",
              "    </tr>\n",
              "  </tbody>\n",
              "</table>\n",
              "</div>\n",
              "      <button class=\"colab-df-convert\" onclick=\"convertToInteractive('df-31450070-b2b7-4e06-99e9-2b1ca04fd782')\"\n",
              "              title=\"Convert this dataframe to an interactive table.\"\n",
              "              style=\"display:none;\">\n",
              "        \n",
              "  <svg xmlns=\"http://www.w3.org/2000/svg\" height=\"24px\"viewBox=\"0 0 24 24\"\n",
              "       width=\"24px\">\n",
              "    <path d=\"M0 0h24v24H0V0z\" fill=\"none\"/>\n",
              "    <path d=\"M18.56 5.44l.94 2.06.94-2.06 2.06-.94-2.06-.94-.94-2.06-.94 2.06-2.06.94zm-11 1L8.5 8.5l.94-2.06 2.06-.94-2.06-.94L8.5 2.5l-.94 2.06-2.06.94zm10 10l.94 2.06.94-2.06 2.06-.94-2.06-.94-.94-2.06-.94 2.06-2.06.94z\"/><path d=\"M17.41 7.96l-1.37-1.37c-.4-.4-.92-.59-1.43-.59-.52 0-1.04.2-1.43.59L10.3 9.45l-7.72 7.72c-.78.78-.78 2.05 0 2.83L4 21.41c.39.39.9.59 1.41.59.51 0 1.02-.2 1.41-.59l7.78-7.78 2.81-2.81c.8-.78.8-2.07 0-2.86zM5.41 20L4 18.59l7.72-7.72 1.47 1.35L5.41 20z\"/>\n",
              "  </svg>\n",
              "      </button>\n",
              "      \n",
              "  <style>\n",
              "    .colab-df-container {\n",
              "      display:flex;\n",
              "      flex-wrap:wrap;\n",
              "      gap: 12px;\n",
              "    }\n",
              "\n",
              "    .colab-df-convert {\n",
              "      background-color: #E8F0FE;\n",
              "      border: none;\n",
              "      border-radius: 50%;\n",
              "      cursor: pointer;\n",
              "      display: none;\n",
              "      fill: #1967D2;\n",
              "      height: 32px;\n",
              "      padding: 0 0 0 0;\n",
              "      width: 32px;\n",
              "    }\n",
              "\n",
              "    .colab-df-convert:hover {\n",
              "      background-color: #E2EBFA;\n",
              "      box-shadow: 0px 1px 2px rgba(60, 64, 67, 0.3), 0px 1px 3px 1px rgba(60, 64, 67, 0.15);\n",
              "      fill: #174EA6;\n",
              "    }\n",
              "\n",
              "    [theme=dark] .colab-df-convert {\n",
              "      background-color: #3B4455;\n",
              "      fill: #D2E3FC;\n",
              "    }\n",
              "\n",
              "    [theme=dark] .colab-df-convert:hover {\n",
              "      background-color: #434B5C;\n",
              "      box-shadow: 0px 1px 3px 1px rgba(0, 0, 0, 0.15);\n",
              "      filter: drop-shadow(0px 1px 2px rgba(0, 0, 0, 0.3));\n",
              "      fill: #FFFFFF;\n",
              "    }\n",
              "  </style>\n",
              "\n",
              "      <script>\n",
              "        const buttonEl =\n",
              "          document.querySelector('#df-31450070-b2b7-4e06-99e9-2b1ca04fd782 button.colab-df-convert');\n",
              "        buttonEl.style.display =\n",
              "          google.colab.kernel.accessAllowed ? 'block' : 'none';\n",
              "\n",
              "        async function convertToInteractive(key) {\n",
              "          const element = document.querySelector('#df-31450070-b2b7-4e06-99e9-2b1ca04fd782');\n",
              "          const dataTable =\n",
              "            await google.colab.kernel.invokeFunction('convertToInteractive',\n",
              "                                                     [key], {});\n",
              "          if (!dataTable) return;\n",
              "\n",
              "          const docLinkHtml = 'Like what you see? Visit the ' +\n",
              "            '<a target=\"_blank\" href=https://colab.research.google.com/notebooks/data_table.ipynb>data table notebook</a>'\n",
              "            + ' to learn more about interactive tables.';\n",
              "          element.innerHTML = '';\n",
              "          dataTable['output_type'] = 'display_data';\n",
              "          await google.colab.output.renderOutput(dataTable, element);\n",
              "          const docLink = document.createElement('div');\n",
              "          docLink.innerHTML = docLinkHtml;\n",
              "          element.appendChild(docLink);\n",
              "        }\n",
              "      </script>\n",
              "    </div>\n",
              "  </div>\n",
              "  "
            ]
          },
          "metadata": {},
          "execution_count": 31
        }
      ],
      "source": [
        "#creating a new df from 2 using merging\n",
        "new_ratings = ratings.merge(users, how='left').merge(books, how='left')\n",
        "new_ratings.head(3)"
      ]
    },
    {
      "cell_type": "code",
      "source": [
        " #importing libraries\n",
        "import matplotlib.pyplot as plt\n",
        "import seaborn"
      ],
      "metadata": {
        "id": "83ZxaQFyN-Eh"
      },
      "id": "83ZxaQFyN-Eh",
      "execution_count": null,
      "outputs": []
    },
    {
      "cell_type": "code",
      "source": [],
      "metadata": {
        "id": "hY5BCg9YN8qZ"
      },
      "id": "hY5BCg9YN8qZ",
      "execution_count": null,
      "outputs": []
    },
    {
      "cell_type": "code",
      "source": [
        "users.head() # our user df has 3 features "
      ],
      "metadata": {
        "colab": {
          "base_uri": "https://localhost:8080/",
          "height": 206
        },
        "id": "mcsTgXHe6vfy",
        "outputId": "6dac3a7c-bda0-420c-dc0d-fd56630799b4"
      },
      "id": "mcsTgXHe6vfy",
      "execution_count": null,
      "outputs": [
        {
          "output_type": "execute_result",
          "data": {
            "text/plain": [
              "   User-ID                            Location   Age\n",
              "0        1                  nyc, new york, usa   NaN\n",
              "1        2           stockton, california, usa  18.0\n",
              "2        3     moscow, yukon territory, russia   NaN\n",
              "3        4           porto, v.n.gaia, portugal  17.0\n",
              "4        5  farnborough, hants, united kingdom   NaN"
            ],
            "text/html": [
              "\n",
              "  <div id=\"df-631e2cfe-b2d9-40ce-a93a-93fe6c962e0c\">\n",
              "    <div class=\"colab-df-container\">\n",
              "      <div>\n",
              "<style scoped>\n",
              "    .dataframe tbody tr th:only-of-type {\n",
              "        vertical-align: middle;\n",
              "    }\n",
              "\n",
              "    .dataframe tbody tr th {\n",
              "        vertical-align: top;\n",
              "    }\n",
              "\n",
              "    .dataframe thead th {\n",
              "        text-align: right;\n",
              "    }\n",
              "</style>\n",
              "<table border=\"1\" class=\"dataframe\">\n",
              "  <thead>\n",
              "    <tr style=\"text-align: right;\">\n",
              "      <th></th>\n",
              "      <th>User-ID</th>\n",
              "      <th>Location</th>\n",
              "      <th>Age</th>\n",
              "    </tr>\n",
              "  </thead>\n",
              "  <tbody>\n",
              "    <tr>\n",
              "      <th>0</th>\n",
              "      <td>1</td>\n",
              "      <td>nyc, new york, usa</td>\n",
              "      <td>NaN</td>\n",
              "    </tr>\n",
              "    <tr>\n",
              "      <th>1</th>\n",
              "      <td>2</td>\n",
              "      <td>stockton, california, usa</td>\n",
              "      <td>18.0</td>\n",
              "    </tr>\n",
              "    <tr>\n",
              "      <th>2</th>\n",
              "      <td>3</td>\n",
              "      <td>moscow, yukon territory, russia</td>\n",
              "      <td>NaN</td>\n",
              "    </tr>\n",
              "    <tr>\n",
              "      <th>3</th>\n",
              "      <td>4</td>\n",
              "      <td>porto, v.n.gaia, portugal</td>\n",
              "      <td>17.0</td>\n",
              "    </tr>\n",
              "    <tr>\n",
              "      <th>4</th>\n",
              "      <td>5</td>\n",
              "      <td>farnborough, hants, united kingdom</td>\n",
              "      <td>NaN</td>\n",
              "    </tr>\n",
              "  </tbody>\n",
              "</table>\n",
              "</div>\n",
              "      <button class=\"colab-df-convert\" onclick=\"convertToInteractive('df-631e2cfe-b2d9-40ce-a93a-93fe6c962e0c')\"\n",
              "              title=\"Convert this dataframe to an interactive table.\"\n",
              "              style=\"display:none;\">\n",
              "        \n",
              "  <svg xmlns=\"http://www.w3.org/2000/svg\" height=\"24px\"viewBox=\"0 0 24 24\"\n",
              "       width=\"24px\">\n",
              "    <path d=\"M0 0h24v24H0V0z\" fill=\"none\"/>\n",
              "    <path d=\"M18.56 5.44l.94 2.06.94-2.06 2.06-.94-2.06-.94-.94-2.06-.94 2.06-2.06.94zm-11 1L8.5 8.5l.94-2.06 2.06-.94-2.06-.94L8.5 2.5l-.94 2.06-2.06.94zm10 10l.94 2.06.94-2.06 2.06-.94-2.06-.94-.94-2.06-.94 2.06-2.06.94z\"/><path d=\"M17.41 7.96l-1.37-1.37c-.4-.4-.92-.59-1.43-.59-.52 0-1.04.2-1.43.59L10.3 9.45l-7.72 7.72c-.78.78-.78 2.05 0 2.83L4 21.41c.39.39.9.59 1.41.59.51 0 1.02-.2 1.41-.59l7.78-7.78 2.81-2.81c.8-.78.8-2.07 0-2.86zM5.41 20L4 18.59l7.72-7.72 1.47 1.35L5.41 20z\"/>\n",
              "  </svg>\n",
              "      </button>\n",
              "      \n",
              "  <style>\n",
              "    .colab-df-container {\n",
              "      display:flex;\n",
              "      flex-wrap:wrap;\n",
              "      gap: 12px;\n",
              "    }\n",
              "\n",
              "    .colab-df-convert {\n",
              "      background-color: #E8F0FE;\n",
              "      border: none;\n",
              "      border-radius: 50%;\n",
              "      cursor: pointer;\n",
              "      display: none;\n",
              "      fill: #1967D2;\n",
              "      height: 32px;\n",
              "      padding: 0 0 0 0;\n",
              "      width: 32px;\n",
              "    }\n",
              "\n",
              "    .colab-df-convert:hover {\n",
              "      background-color: #E2EBFA;\n",
              "      box-shadow: 0px 1px 2px rgba(60, 64, 67, 0.3), 0px 1px 3px 1px rgba(60, 64, 67, 0.15);\n",
              "      fill: #174EA6;\n",
              "    }\n",
              "\n",
              "    [theme=dark] .colab-df-convert {\n",
              "      background-color: #3B4455;\n",
              "      fill: #D2E3FC;\n",
              "    }\n",
              "\n",
              "    [theme=dark] .colab-df-convert:hover {\n",
              "      background-color: #434B5C;\n",
              "      box-shadow: 0px 1px 3px 1px rgba(0, 0, 0, 0.15);\n",
              "      filter: drop-shadow(0px 1px 2px rgba(0, 0, 0, 0.3));\n",
              "      fill: #FFFFFF;\n",
              "    }\n",
              "  </style>\n",
              "\n",
              "      <script>\n",
              "        const buttonEl =\n",
              "          document.querySelector('#df-631e2cfe-b2d9-40ce-a93a-93fe6c962e0c button.colab-df-convert');\n",
              "        buttonEl.style.display =\n",
              "          google.colab.kernel.accessAllowed ? 'block' : 'none';\n",
              "\n",
              "        async function convertToInteractive(key) {\n",
              "          const element = document.querySelector('#df-631e2cfe-b2d9-40ce-a93a-93fe6c962e0c');\n",
              "          const dataTable =\n",
              "            await google.colab.kernel.invokeFunction('convertToInteractive',\n",
              "                                                     [key], {});\n",
              "          if (!dataTable) return;\n",
              "\n",
              "          const docLinkHtml = 'Like what you see? Visit the ' +\n",
              "            '<a target=\"_blank\" href=https://colab.research.google.com/notebooks/data_table.ipynb>data table notebook</a>'\n",
              "            + ' to learn more about interactive tables.';\n",
              "          element.innerHTML = '';\n",
              "          dataTable['output_type'] = 'display_data';\n",
              "          await google.colab.output.renderOutput(dataTable, element);\n",
              "          const docLink = document.createElement('div');\n",
              "          docLink.innerHTML = docLinkHtml;\n",
              "          element.appendChild(docLink);\n",
              "        }\n",
              "      </script>\n",
              "    </div>\n",
              "  </div>\n",
              "  "
            ]
          },
          "metadata": {},
          "execution_count": 33
        }
      ]
    },
    {
      "cell_type": "code",
      "source": [
        "books.head()"
      ],
      "metadata": {
        "colab": {
          "base_uri": "https://localhost:8080/",
          "height": 478
        },
        "id": "hIpf_v0a7iuy",
        "outputId": "34dd5e8a-ad67-4e3d-c229-75c9f4c2531a"
      },
      "id": "hIpf_v0a7iuy",
      "execution_count": null,
      "outputs": [
        {
          "output_type": "execute_result",
          "data": {
            "text/plain": [
              "         ISBN                                         Book-Title  \\\n",
              "0  0195153448                                Classical Mythology   \n",
              "1  0002005018                                       Clara Callan   \n",
              "2  0060973129                               Decision in Normandy   \n",
              "3  0374157065  Flu: The Story of the Great Influenza Pandemic...   \n",
              "4  0393045218                             The Mummies of Urumchi   \n",
              "\n",
              "            Book-Author  Year-Of-Publication                   Publisher  \\\n",
              "0    Mark P. O. Morford               2002.0     Oxford University Press   \n",
              "1  Richard Bruce Wright               2001.0       HarperFlamingo Canada   \n",
              "2          Carlo D'Este               1991.0             HarperPerennial   \n",
              "3      Gina Bari Kolata               1999.0        Farrar Straus Giroux   \n",
              "4       E. J. W. Barber               1999.0  W. W. Norton &amp; Company   \n",
              "\n",
              "                                         Image-URL-S  \\\n",
              "0  http://images.amazon.com/images/P/0195153448.0...   \n",
              "1  http://images.amazon.com/images/P/0002005018.0...   \n",
              "2  http://images.amazon.com/images/P/0060973129.0...   \n",
              "3  http://images.amazon.com/images/P/0374157065.0...   \n",
              "4  http://images.amazon.com/images/P/0393045218.0...   \n",
              "\n",
              "                                         Image-URL-M  \\\n",
              "0  http://images.amazon.com/images/P/0195153448.0...   \n",
              "1  http://images.amazon.com/images/P/0002005018.0...   \n",
              "2  http://images.amazon.com/images/P/0060973129.0...   \n",
              "3  http://images.amazon.com/images/P/0374157065.0...   \n",
              "4  http://images.amazon.com/images/P/0393045218.0...   \n",
              "\n",
              "                                         Image-URL-L  \n",
              "0  http://images.amazon.com/images/P/0195153448.0...  \n",
              "1  http://images.amazon.com/images/P/0002005018.0...  \n",
              "2  http://images.amazon.com/images/P/0060973129.0...  \n",
              "3  http://images.amazon.com/images/P/0374157065.0...  \n",
              "4  http://images.amazon.com/images/P/0393045218.0...  "
            ],
            "text/html": [
              "\n",
              "  <div id=\"df-4d36a629-b2cd-4b76-b838-c42c14c24a43\">\n",
              "    <div class=\"colab-df-container\">\n",
              "      <div>\n",
              "<style scoped>\n",
              "    .dataframe tbody tr th:only-of-type {\n",
              "        vertical-align: middle;\n",
              "    }\n",
              "\n",
              "    .dataframe tbody tr th {\n",
              "        vertical-align: top;\n",
              "    }\n",
              "\n",
              "    .dataframe thead th {\n",
              "        text-align: right;\n",
              "    }\n",
              "</style>\n",
              "<table border=\"1\" class=\"dataframe\">\n",
              "  <thead>\n",
              "    <tr style=\"text-align: right;\">\n",
              "      <th></th>\n",
              "      <th>ISBN</th>\n",
              "      <th>Book-Title</th>\n",
              "      <th>Book-Author</th>\n",
              "      <th>Year-Of-Publication</th>\n",
              "      <th>Publisher</th>\n",
              "      <th>Image-URL-S</th>\n",
              "      <th>Image-URL-M</th>\n",
              "      <th>Image-URL-L</th>\n",
              "    </tr>\n",
              "  </thead>\n",
              "  <tbody>\n",
              "    <tr>\n",
              "      <th>0</th>\n",
              "      <td>0195153448</td>\n",
              "      <td>Classical Mythology</td>\n",
              "      <td>Mark P. O. Morford</td>\n",
              "      <td>2002.0</td>\n",
              "      <td>Oxford University Press</td>\n",
              "      <td>http://images.amazon.com/images/P/0195153448.0...</td>\n",
              "      <td>http://images.amazon.com/images/P/0195153448.0...</td>\n",
              "      <td>http://images.amazon.com/images/P/0195153448.0...</td>\n",
              "    </tr>\n",
              "    <tr>\n",
              "      <th>1</th>\n",
              "      <td>0002005018</td>\n",
              "      <td>Clara Callan</td>\n",
              "      <td>Richard Bruce Wright</td>\n",
              "      <td>2001.0</td>\n",
              "      <td>HarperFlamingo Canada</td>\n",
              "      <td>http://images.amazon.com/images/P/0002005018.0...</td>\n",
              "      <td>http://images.amazon.com/images/P/0002005018.0...</td>\n",
              "      <td>http://images.amazon.com/images/P/0002005018.0...</td>\n",
              "    </tr>\n",
              "    <tr>\n",
              "      <th>2</th>\n",
              "      <td>0060973129</td>\n",
              "      <td>Decision in Normandy</td>\n",
              "      <td>Carlo D'Este</td>\n",
              "      <td>1991.0</td>\n",
              "      <td>HarperPerennial</td>\n",
              "      <td>http://images.amazon.com/images/P/0060973129.0...</td>\n",
              "      <td>http://images.amazon.com/images/P/0060973129.0...</td>\n",
              "      <td>http://images.amazon.com/images/P/0060973129.0...</td>\n",
              "    </tr>\n",
              "    <tr>\n",
              "      <th>3</th>\n",
              "      <td>0374157065</td>\n",
              "      <td>Flu: The Story of the Great Influenza Pandemic...</td>\n",
              "      <td>Gina Bari Kolata</td>\n",
              "      <td>1999.0</td>\n",
              "      <td>Farrar Straus Giroux</td>\n",
              "      <td>http://images.amazon.com/images/P/0374157065.0...</td>\n",
              "      <td>http://images.amazon.com/images/P/0374157065.0...</td>\n",
              "      <td>http://images.amazon.com/images/P/0374157065.0...</td>\n",
              "    </tr>\n",
              "    <tr>\n",
              "      <th>4</th>\n",
              "      <td>0393045218</td>\n",
              "      <td>The Mummies of Urumchi</td>\n",
              "      <td>E. J. W. Barber</td>\n",
              "      <td>1999.0</td>\n",
              "      <td>W. W. Norton &amp;amp; Company</td>\n",
              "      <td>http://images.amazon.com/images/P/0393045218.0...</td>\n",
              "      <td>http://images.amazon.com/images/P/0393045218.0...</td>\n",
              "      <td>http://images.amazon.com/images/P/0393045218.0...</td>\n",
              "    </tr>\n",
              "  </tbody>\n",
              "</table>\n",
              "</div>\n",
              "      <button class=\"colab-df-convert\" onclick=\"convertToInteractive('df-4d36a629-b2cd-4b76-b838-c42c14c24a43')\"\n",
              "              title=\"Convert this dataframe to an interactive table.\"\n",
              "              style=\"display:none;\">\n",
              "        \n",
              "  <svg xmlns=\"http://www.w3.org/2000/svg\" height=\"24px\"viewBox=\"0 0 24 24\"\n",
              "       width=\"24px\">\n",
              "    <path d=\"M0 0h24v24H0V0z\" fill=\"none\"/>\n",
              "    <path d=\"M18.56 5.44l.94 2.06.94-2.06 2.06-.94-2.06-.94-.94-2.06-.94 2.06-2.06.94zm-11 1L8.5 8.5l.94-2.06 2.06-.94-2.06-.94L8.5 2.5l-.94 2.06-2.06.94zm10 10l.94 2.06.94-2.06 2.06-.94-2.06-.94-.94-2.06-.94 2.06-2.06.94z\"/><path d=\"M17.41 7.96l-1.37-1.37c-.4-.4-.92-.59-1.43-.59-.52 0-1.04.2-1.43.59L10.3 9.45l-7.72 7.72c-.78.78-.78 2.05 0 2.83L4 21.41c.39.39.9.59 1.41.59.51 0 1.02-.2 1.41-.59l7.78-7.78 2.81-2.81c.8-.78.8-2.07 0-2.86zM5.41 20L4 18.59l7.72-7.72 1.47 1.35L5.41 20z\"/>\n",
              "  </svg>\n",
              "      </button>\n",
              "      \n",
              "  <style>\n",
              "    .colab-df-container {\n",
              "      display:flex;\n",
              "      flex-wrap:wrap;\n",
              "      gap: 12px;\n",
              "    }\n",
              "\n",
              "    .colab-df-convert {\n",
              "      background-color: #E8F0FE;\n",
              "      border: none;\n",
              "      border-radius: 50%;\n",
              "      cursor: pointer;\n",
              "      display: none;\n",
              "      fill: #1967D2;\n",
              "      height: 32px;\n",
              "      padding: 0 0 0 0;\n",
              "      width: 32px;\n",
              "    }\n",
              "\n",
              "    .colab-df-convert:hover {\n",
              "      background-color: #E2EBFA;\n",
              "      box-shadow: 0px 1px 2px rgba(60, 64, 67, 0.3), 0px 1px 3px 1px rgba(60, 64, 67, 0.15);\n",
              "      fill: #174EA6;\n",
              "    }\n",
              "\n",
              "    [theme=dark] .colab-df-convert {\n",
              "      background-color: #3B4455;\n",
              "      fill: #D2E3FC;\n",
              "    }\n",
              "\n",
              "    [theme=dark] .colab-df-convert:hover {\n",
              "      background-color: #434B5C;\n",
              "      box-shadow: 0px 1px 3px 1px rgba(0, 0, 0, 0.15);\n",
              "      filter: drop-shadow(0px 1px 2px rgba(0, 0, 0, 0.3));\n",
              "      fill: #FFFFFF;\n",
              "    }\n",
              "  </style>\n",
              "\n",
              "      <script>\n",
              "        const buttonEl =\n",
              "          document.querySelector('#df-4d36a629-b2cd-4b76-b838-c42c14c24a43 button.colab-df-convert');\n",
              "        buttonEl.style.display =\n",
              "          google.colab.kernel.accessAllowed ? 'block' : 'none';\n",
              "\n",
              "        async function convertToInteractive(key) {\n",
              "          const element = document.querySelector('#df-4d36a629-b2cd-4b76-b838-c42c14c24a43');\n",
              "          const dataTable =\n",
              "            await google.colab.kernel.invokeFunction('convertToInteractive',\n",
              "                                                     [key], {});\n",
              "          if (!dataTable) return;\n",
              "\n",
              "          const docLinkHtml = 'Like what you see? Visit the ' +\n",
              "            '<a target=\"_blank\" href=https://colab.research.google.com/notebooks/data_table.ipynb>data table notebook</a>'\n",
              "            + ' to learn more about interactive tables.';\n",
              "          element.innerHTML = '';\n",
              "          dataTable['output_type'] = 'display_data';\n",
              "          await google.colab.output.renderOutput(dataTable, element);\n",
              "          const docLink = document.createElement('div');\n",
              "          docLink.innerHTML = docLinkHtml;\n",
              "          element.appendChild(docLink);\n",
              "        }\n",
              "      </script>\n",
              "    </div>\n",
              "  </div>\n",
              "  "
            ]
          },
          "metadata": {},
          "execution_count": 7
        }
      ]
    },
    {
      "cell_type": "code",
      "source": [
        "#changed terminologyy\n",
        "#don't wee need to split our data "
      ],
      "metadata": {
        "id": "0eUfWe516rUG"
      },
      "id": "0eUfWe516rUG",
      "execution_count": null,
      "outputs": []
    },
    {
      "cell_type": "code",
      "execution_count": null,
      "id": "d7fcbb99",
      "metadata": {
        "execution": {
          "iopub.execute_input": "2022-08-12T06:19:07.297578Z",
          "iopub.status.busy": "2022-08-12T06:19:07.297226Z",
          "iopub.status.idle": "2022-08-12T06:19:07.874262Z",
          "shell.execute_reply": "2022-08-12T06:19:07.872930Z"
        },
        "papermill": {
          "duration": 0.589113,
          "end_time": "2022-08-12T06:19:07.877406",
          "exception": false,
          "start_time": "2022-08-12T06:19:07.288293",
          "status": "completed"
        },
        "tags": [],
        "colab": {
          "base_uri": "https://localhost:8080/"
        },
        "id": "d7fcbb99",
        "outputId": "0decbccb-33e9-4a59-c5ac-5d0107f71ef9"
      },
      "outputs": [
        {
          "output_type": "execute_result",
          "data": {
            "text/plain": [
              "((1149780, 4), (1149780, 2), (1149780, 1))"
            ]
          },
          "metadata": {},
          "execution_count": 34
        }
      ],
      "source": [
        "book_features = ['Book-Title', 'Book-Author', 'Year-Of-Publication', 'Publisher']\n",
        "user_features = ['Location', 'Age']\n",
        "target = ['Book-Rating']\n",
        "\n",
        "x_item = new_ratings[book_features]\n",
        "x_user = new_ratings[user_features]\n",
        "y = new_ratings[target]\n",
        "\n",
        "x_item.shape, x_user.shape, y.shape"
      ]
    },
    {
      "cell_type": "code",
      "source": [],
      "metadata": {
        "id": "E_ZvjD7u6AMo"
      },
      "id": "E_ZvjD7u6AMo",
      "execution_count": null,
      "outputs": []
    },
    {
      "cell_type": "markdown",
      "id": "4895659f",
      "metadata": {
        "papermill": {
          "duration": 0.007352,
          "end_time": "2022-08-12T06:19:07.892462",
          "exception": false,
          "start_time": "2022-08-12T06:19:07.885110",
          "status": "completed"
        },
        "tags": [],
        "id": "4895659f"
      },
      "source": [
        "# Preprocessing"
      ]
    },
    {
      "cell_type": "code",
      "execution_count": null,
      "id": "9ec932e8",
      "metadata": {
        "execution": {
          "iopub.execute_input": "2022-08-12T06:19:07.910999Z",
          "iopub.status.busy": "2022-08-12T06:19:07.908789Z",
          "iopub.status.idle": "2022-08-12T06:20:32.921879Z",
          "shell.execute_reply": "2022-08-12T06:20:32.920534Z"
        },
        "papermill": {
          "duration": 85.032262,
          "end_time": "2022-08-12T06:20:32.932523",
          "exception": false,
          "start_time": "2022-08-12T06:19:07.900261",
          "status": "completed"
        },
        "tags": [],
        "colab": {
          "base_uri": "https://localhost:8080/"
        },
        "id": "9ec932e8",
        "outputId": "fcd4704a-6cae-4a60-cf19-db2335371328"
      },
      "outputs": [
        {
          "output_type": "execute_result",
          "data": {
            "text/plain": [
              "((1149780, 5478), (1149780, 1687))"
            ]
          },
          "metadata": {},
          "execution_count": 35
        }
      ],
      "source": [
        "def get_2d_to_1d(df):\n",
        "    return df.reshape(-1)\n",
        "\n",
        "impute_blanks = lambda: SimpleImputer(strategy='constant', fill_value='')\n",
        "impute_median = lambda: SimpleImputer(strategy='median')\n",
        "\n",
        "reshape = lambda: FunctionTransformer(get_2d_to_1d)\n",
        "\n",
        "tfidf = lambda: TfidfVectorizer(analyzer='char', ngram_range=(2, 2))\n",
        "scale = lambda: StandardScaler()\n",
        "\n",
        "preprocessor_items = ColumnTransformer([\n",
        "    ('Book-Title', Pipeline([('impute', impute_blanks()), ('reshape', reshape()), ('encoder', tfidf())]), ['Book-Title']),\n",
        "    ('Book-Author', Pipeline([('impute', impute_blanks()), ('reshape', reshape()), ('encoder', tfidf())]), ['Book-Author']),\n",
        "    ('Year-Of-Publication', Pipeline([('impute', impute_median()), ('encoder', scale())]), ['Year-Of-Publication']),\n",
        "    ('Publisher', Pipeline([('impute', impute_blanks()), ('reshape', reshape()), ('encoder', tfidf())]), ['Publisher']),\n",
        "])\n",
        "\n",
        "preprocessor_users = ColumnTransformer([\n",
        "    ('Location', Pipeline([('impute', impute_blanks()), ('reshape', reshape()), ('encoder', tfidf())]), ['Location']),\n",
        "    ('Age', Pipeline([('impute', impute_median()), ('encoder', scale())]), ['Age']),\n",
        "])\n",
        "\n",
        "ratings_scaler = MinMaxScaler()\n",
        "\n",
        "\n",
        "# item_train= preprocessor_items.fit_transform(item_train)\n",
        "# item_test= preprocessor_items.fit_transform(item_test)\n",
        "# user_train= preprocessor_users.fit_transform(user_train)\n",
        "# user_test= preprocessor_users.fit_transform(user_test)\n",
        "# y_train= ratings_scaler.fit_transform(y_train)\n",
        "# y_test= ratings_scaler.fit_transform(y_test)\n",
        "\n",
        "\n",
        "\n",
        "\n",
        "x_item = preprocessor_items.fit_transform(x_item)\n",
        "x_user = preprocessor_users.fit_transform(x_user)\n",
        "y = ratings_scaler.fit_transform(y).reshape(-1)\n",
        "\n",
        "x_item.shape, x_user.shape\n",
        "\n",
        "\n",
        "#item_train.shape ,item_test.shape , user_train.shape ,  user_test.shape , y_train.shape , y_test.shape"
      ]
    },
    {
      "cell_type": "code",
      "source": [
        "# from sklearn.decomposition import TruncatedSVD\n",
        "# # reduce dimensionality for improved performance\n",
        "# svd = TruncatedSVD(n_components=1687)\n",
        "# x_item = svd.fit_transform(x_item)\n",
        "# x_user =svd.fit_transform(x_user)\n",
        "# this is cauisng the system to crash due to resources I wont't implement it for now "
      ],
      "metadata": {
        "id": "ZN5lS8Ad2qN9"
      },
      "id": "ZN5lS8Ad2qN9",
      "execution_count": null,
      "outputs": []
    },
    {
      "cell_type": "code",
      "execution_count": null,
      "id": "e5f7c131",
      "metadata": {
        "execution": {
          "iopub.execute_input": "2022-08-12T06:20:32.950997Z",
          "iopub.status.busy": "2022-08-12T06:20:32.948959Z",
          "iopub.status.idle": "2022-08-12T06:20:33.010885Z",
          "shell.execute_reply": "2022-08-12T06:20:33.009466Z"
        },
        "papermill": {
          "duration": 0.073427,
          "end_time": "2022-08-12T06:20:33.013591",
          "exception": false,
          "start_time": "2022-08-12T06:20:32.940164",
          "status": "completed"
        },
        "tags": [],
        "colab": {
          "base_uri": "https://localhost:8080/",
          "height": 187
        },
        "id": "e5f7c131",
        "outputId": "2b69402b-53a7-4f0e-b164-9dd5b23a2e9f"
      },
      "outputs": [
        {
          "output_type": "execute_result",
          "data": {
            "text/plain": [
              "<IPython.core.display.HTML object>"
            ],
            "text/html": [
              "<style>#sk-202cb632-acd0-4d05-a960-720ec1921d9f {color: black;background-color: white;}#sk-202cb632-acd0-4d05-a960-720ec1921d9f pre{padding: 0;}#sk-202cb632-acd0-4d05-a960-720ec1921d9f div.sk-toggleable {background-color: white;}#sk-202cb632-acd0-4d05-a960-720ec1921d9f label.sk-toggleable__label {cursor: pointer;display: block;width: 100%;margin-bottom: 0;padding: 0.3em;box-sizing: border-box;text-align: center;}#sk-202cb632-acd0-4d05-a960-720ec1921d9f label.sk-toggleable__label-arrow:before {content: \"▸\";float: left;margin-right: 0.25em;color: #696969;}#sk-202cb632-acd0-4d05-a960-720ec1921d9f label.sk-toggleable__label-arrow:hover:before {color: black;}#sk-202cb632-acd0-4d05-a960-720ec1921d9f div.sk-estimator:hover label.sk-toggleable__label-arrow:before {color: black;}#sk-202cb632-acd0-4d05-a960-720ec1921d9f div.sk-toggleable__content {max-height: 0;max-width: 0;overflow: hidden;text-align: left;background-color: #f0f8ff;}#sk-202cb632-acd0-4d05-a960-720ec1921d9f div.sk-toggleable__content pre {margin: 0.2em;color: black;border-radius: 0.25em;background-color: #f0f8ff;}#sk-202cb632-acd0-4d05-a960-720ec1921d9f input.sk-toggleable__control:checked~div.sk-toggleable__content {max-height: 200px;max-width: 100%;overflow: auto;}#sk-202cb632-acd0-4d05-a960-720ec1921d9f input.sk-toggleable__control:checked~label.sk-toggleable__label-arrow:before {content: \"▾\";}#sk-202cb632-acd0-4d05-a960-720ec1921d9f div.sk-estimator input.sk-toggleable__control:checked~label.sk-toggleable__label {background-color: #d4ebff;}#sk-202cb632-acd0-4d05-a960-720ec1921d9f div.sk-label input.sk-toggleable__control:checked~label.sk-toggleable__label {background-color: #d4ebff;}#sk-202cb632-acd0-4d05-a960-720ec1921d9f input.sk-hidden--visually {border: 0;clip: rect(1px 1px 1px 1px);clip: rect(1px, 1px, 1px, 1px);height: 1px;margin: -1px;overflow: hidden;padding: 0;position: absolute;width: 1px;}#sk-202cb632-acd0-4d05-a960-720ec1921d9f div.sk-estimator {font-family: monospace;background-color: #f0f8ff;border: 1px dotted black;border-radius: 0.25em;box-sizing: border-box;margin-bottom: 0.5em;}#sk-202cb632-acd0-4d05-a960-720ec1921d9f div.sk-estimator:hover {background-color: #d4ebff;}#sk-202cb632-acd0-4d05-a960-720ec1921d9f div.sk-parallel-item::after {content: \"\";width: 100%;border-bottom: 1px solid gray;flex-grow: 1;}#sk-202cb632-acd0-4d05-a960-720ec1921d9f div.sk-label:hover label.sk-toggleable__label {background-color: #d4ebff;}#sk-202cb632-acd0-4d05-a960-720ec1921d9f div.sk-serial::before {content: \"\";position: absolute;border-left: 1px solid gray;box-sizing: border-box;top: 2em;bottom: 0;left: 50%;}#sk-202cb632-acd0-4d05-a960-720ec1921d9f div.sk-serial {display: flex;flex-direction: column;align-items: center;background-color: white;padding-right: 0.2em;padding-left: 0.2em;}#sk-202cb632-acd0-4d05-a960-720ec1921d9f div.sk-item {z-index: 1;}#sk-202cb632-acd0-4d05-a960-720ec1921d9f div.sk-parallel {display: flex;align-items: stretch;justify-content: center;background-color: white;}#sk-202cb632-acd0-4d05-a960-720ec1921d9f div.sk-parallel::before {content: \"\";position: absolute;border-left: 1px solid gray;box-sizing: border-box;top: 2em;bottom: 0;left: 50%;}#sk-202cb632-acd0-4d05-a960-720ec1921d9f div.sk-parallel-item {display: flex;flex-direction: column;position: relative;background-color: white;}#sk-202cb632-acd0-4d05-a960-720ec1921d9f div.sk-parallel-item:first-child::after {align-self: flex-end;width: 50%;}#sk-202cb632-acd0-4d05-a960-720ec1921d9f div.sk-parallel-item:last-child::after {align-self: flex-start;width: 50%;}#sk-202cb632-acd0-4d05-a960-720ec1921d9f div.sk-parallel-item:only-child::after {width: 0;}#sk-202cb632-acd0-4d05-a960-720ec1921d9f div.sk-dashed-wrapped {border: 1px dashed gray;margin: 0 0.4em 0.5em 0.4em;box-sizing: border-box;padding-bottom: 0.4em;background-color: white;position: relative;}#sk-202cb632-acd0-4d05-a960-720ec1921d9f div.sk-label label {font-family: monospace;font-weight: bold;background-color: white;display: inline-block;line-height: 1.2em;}#sk-202cb632-acd0-4d05-a960-720ec1921d9f div.sk-label-container {position: relative;z-index: 2;text-align: center;}#sk-202cb632-acd0-4d05-a960-720ec1921d9f div.sk-container {/* jupyter's `normalize.less` sets `[hidden] { display: none; }` but bootstrap.min.css set `[hidden] { display: none !important; }` so we also need the `!important` here to be able to override the default hidden behavior on the sphinx rendered scikit-learn.org. See: https://github.com/scikit-learn/scikit-learn/issues/21755 */display: inline-block !important;position: relative;}#sk-202cb632-acd0-4d05-a960-720ec1921d9f div.sk-text-repr-fallback {display: none;}</style><div id=\"sk-202cb632-acd0-4d05-a960-720ec1921d9f\" class=\"sk-top-container\"><div class=\"sk-text-repr-fallback\"><pre>ColumnTransformer(transformers=[(&#x27;Book-Title&#x27;,\n",
              "                                 Pipeline(steps=[(&#x27;impute&#x27;,\n",
              "                                                  SimpleImputer(fill_value=&#x27;&#x27;,\n",
              "                                                                strategy=&#x27;constant&#x27;)),\n",
              "                                                 (&#x27;reshape&#x27;,\n",
              "                                                  FunctionTransformer(func=&lt;function get_2d_to_1d at 0x7f456609a5e0&gt;)),\n",
              "                                                 (&#x27;encoder&#x27;,\n",
              "                                                  TfidfVectorizer(analyzer=&#x27;char&#x27;,\n",
              "                                                                  ngram_range=(2,\n",
              "                                                                               2)))]),\n",
              "                                 [&#x27;Book-Title&#x27;]),\n",
              "                                (&#x27;Book-Author&#x27;,\n",
              "                                 Pipeline(steps=[(&#x27;impute&#x27;,\n",
              "                                                  SimpleImputer(fill_value=&#x27;&#x27;,\n",
              "                                                                s...\n",
              "                                 Pipeline(steps=[(&#x27;impute&#x27;,\n",
              "                                                  SimpleImputer(strategy=&#x27;median&#x27;)),\n",
              "                                                 (&#x27;encoder&#x27;,\n",
              "                                                  StandardScaler())]),\n",
              "                                 [&#x27;Year-Of-Publication&#x27;]),\n",
              "                                (&#x27;Publisher&#x27;,\n",
              "                                 Pipeline(steps=[(&#x27;impute&#x27;,\n",
              "                                                  SimpleImputer(fill_value=&#x27;&#x27;,\n",
              "                                                                strategy=&#x27;constant&#x27;)),\n",
              "                                                 (&#x27;reshape&#x27;,\n",
              "                                                  FunctionTransformer(func=&lt;function get_2d_to_1d at 0x7f456609a5e0&gt;)),\n",
              "                                                 (&#x27;encoder&#x27;,\n",
              "                                                  TfidfVectorizer(analyzer=&#x27;char&#x27;,\n",
              "                                                                  ngram_range=(2,\n",
              "                                                                               2)))]),\n",
              "                                 [&#x27;Publisher&#x27;])])</pre><b>Please rerun this cell to show the HTML repr or trust the notebook.</b></div><div class=\"sk-container\" hidden><div class=\"sk-item sk-dashed-wrapped\"><div class=\"sk-label-container\"><div class=\"sk-label sk-toggleable\"><input class=\"sk-toggleable__control sk-hidden--visually\" id=\"01604620-8aea-45e7-8a2a-416e5662a1d6\" type=\"checkbox\" ><label for=\"01604620-8aea-45e7-8a2a-416e5662a1d6\" class=\"sk-toggleable__label sk-toggleable__label-arrow\">ColumnTransformer</label><div class=\"sk-toggleable__content\"><pre>ColumnTransformer(transformers=[(&#x27;Book-Title&#x27;,\n",
              "                                 Pipeline(steps=[(&#x27;impute&#x27;,\n",
              "                                                  SimpleImputer(fill_value=&#x27;&#x27;,\n",
              "                                                                strategy=&#x27;constant&#x27;)),\n",
              "                                                 (&#x27;reshape&#x27;,\n",
              "                                                  FunctionTransformer(func=&lt;function get_2d_to_1d at 0x7f456609a5e0&gt;)),\n",
              "                                                 (&#x27;encoder&#x27;,\n",
              "                                                  TfidfVectorizer(analyzer=&#x27;char&#x27;,\n",
              "                                                                  ngram_range=(2,\n",
              "                                                                               2)))]),\n",
              "                                 [&#x27;Book-Title&#x27;]),\n",
              "                                (&#x27;Book-Author&#x27;,\n",
              "                                 Pipeline(steps=[(&#x27;impute&#x27;,\n",
              "                                                  SimpleImputer(fill_value=&#x27;&#x27;,\n",
              "                                                                s...\n",
              "                                 Pipeline(steps=[(&#x27;impute&#x27;,\n",
              "                                                  SimpleImputer(strategy=&#x27;median&#x27;)),\n",
              "                                                 (&#x27;encoder&#x27;,\n",
              "                                                  StandardScaler())]),\n",
              "                                 [&#x27;Year-Of-Publication&#x27;]),\n",
              "                                (&#x27;Publisher&#x27;,\n",
              "                                 Pipeline(steps=[(&#x27;impute&#x27;,\n",
              "                                                  SimpleImputer(fill_value=&#x27;&#x27;,\n",
              "                                                                strategy=&#x27;constant&#x27;)),\n",
              "                                                 (&#x27;reshape&#x27;,\n",
              "                                                  FunctionTransformer(func=&lt;function get_2d_to_1d at 0x7f456609a5e0&gt;)),\n",
              "                                                 (&#x27;encoder&#x27;,\n",
              "                                                  TfidfVectorizer(analyzer=&#x27;char&#x27;,\n",
              "                                                                  ngram_range=(2,\n",
              "                                                                               2)))]),\n",
              "                                 [&#x27;Publisher&#x27;])])</pre></div></div></div><div class=\"sk-parallel\"><div class=\"sk-parallel-item\"><div class=\"sk-item\"><div class=\"sk-label-container\"><div class=\"sk-label sk-toggleable\"><input class=\"sk-toggleable__control sk-hidden--visually\" id=\"ea77d3b6-a5d1-4c97-a306-89e1c6bdecb2\" type=\"checkbox\" ><label for=\"ea77d3b6-a5d1-4c97-a306-89e1c6bdecb2\" class=\"sk-toggleable__label sk-toggleable__label-arrow\">Book-Title</label><div class=\"sk-toggleable__content\"><pre>[&#x27;Book-Title&#x27;]</pre></div></div></div><div class=\"sk-serial\"><div class=\"sk-item\"><div class=\"sk-serial\"><div class=\"sk-item\"><div class=\"sk-estimator sk-toggleable\"><input class=\"sk-toggleable__control sk-hidden--visually\" id=\"e2e3ca9e-4cbf-4cce-8232-6932190aec09\" type=\"checkbox\" ><label for=\"e2e3ca9e-4cbf-4cce-8232-6932190aec09\" class=\"sk-toggleable__label sk-toggleable__label-arrow\">SimpleImputer</label><div class=\"sk-toggleable__content\"><pre>SimpleImputer(fill_value=&#x27;&#x27;, strategy=&#x27;constant&#x27;)</pre></div></div></div><div class=\"sk-item\"><div class=\"sk-estimator sk-toggleable\"><input class=\"sk-toggleable__control sk-hidden--visually\" id=\"0d1f8b1d-6480-4666-9979-4ce41cd8665b\" type=\"checkbox\" ><label for=\"0d1f8b1d-6480-4666-9979-4ce41cd8665b\" class=\"sk-toggleable__label sk-toggleable__label-arrow\">FunctionTransformer</label><div class=\"sk-toggleable__content\"><pre>FunctionTransformer(func=&lt;function get_2d_to_1d at 0x7f456609a5e0&gt;)</pre></div></div></div><div class=\"sk-item\"><div class=\"sk-estimator sk-toggleable\"><input class=\"sk-toggleable__control sk-hidden--visually\" id=\"dd2c7d6b-e376-4cdb-ad6a-a7b3c7d54afd\" type=\"checkbox\" ><label for=\"dd2c7d6b-e376-4cdb-ad6a-a7b3c7d54afd\" class=\"sk-toggleable__label sk-toggleable__label-arrow\">TfidfVectorizer</label><div class=\"sk-toggleable__content\"><pre>TfidfVectorizer(analyzer=&#x27;char&#x27;, ngram_range=(2, 2))</pre></div></div></div></div></div></div></div></div><div class=\"sk-parallel-item\"><div class=\"sk-item\"><div class=\"sk-label-container\"><div class=\"sk-label sk-toggleable\"><input class=\"sk-toggleable__control sk-hidden--visually\" id=\"27ecede2-9c5b-4634-ae33-08779188ec0c\" type=\"checkbox\" ><label for=\"27ecede2-9c5b-4634-ae33-08779188ec0c\" class=\"sk-toggleable__label sk-toggleable__label-arrow\">Book-Author</label><div class=\"sk-toggleable__content\"><pre>[&#x27;Book-Author&#x27;]</pre></div></div></div><div class=\"sk-serial\"><div class=\"sk-item\"><div class=\"sk-serial\"><div class=\"sk-item\"><div class=\"sk-estimator sk-toggleable\"><input class=\"sk-toggleable__control sk-hidden--visually\" id=\"baf5b9d7-d80e-45c0-ac77-75264378b80a\" type=\"checkbox\" ><label for=\"baf5b9d7-d80e-45c0-ac77-75264378b80a\" class=\"sk-toggleable__label sk-toggleable__label-arrow\">SimpleImputer</label><div class=\"sk-toggleable__content\"><pre>SimpleImputer(fill_value=&#x27;&#x27;, strategy=&#x27;constant&#x27;)</pre></div></div></div><div class=\"sk-item\"><div class=\"sk-estimator sk-toggleable\"><input class=\"sk-toggleable__control sk-hidden--visually\" id=\"c78f90ed-a27a-4c89-8d28-8b4dcd4d8aa8\" type=\"checkbox\" ><label for=\"c78f90ed-a27a-4c89-8d28-8b4dcd4d8aa8\" class=\"sk-toggleable__label sk-toggleable__label-arrow\">FunctionTransformer</label><div class=\"sk-toggleable__content\"><pre>FunctionTransformer(func=&lt;function get_2d_to_1d at 0x7f456609a5e0&gt;)</pre></div></div></div><div class=\"sk-item\"><div class=\"sk-estimator sk-toggleable\"><input class=\"sk-toggleable__control sk-hidden--visually\" id=\"1fd26413-2c41-4b57-b8af-c45c31d635cf\" type=\"checkbox\" ><label for=\"1fd26413-2c41-4b57-b8af-c45c31d635cf\" class=\"sk-toggleable__label sk-toggleable__label-arrow\">TfidfVectorizer</label><div class=\"sk-toggleable__content\"><pre>TfidfVectorizer(analyzer=&#x27;char&#x27;, ngram_range=(2, 2))</pre></div></div></div></div></div></div></div></div><div class=\"sk-parallel-item\"><div class=\"sk-item\"><div class=\"sk-label-container\"><div class=\"sk-label sk-toggleable\"><input class=\"sk-toggleable__control sk-hidden--visually\" id=\"1a8e7299-5a3a-426d-b9d6-e17d9cf62f38\" type=\"checkbox\" ><label for=\"1a8e7299-5a3a-426d-b9d6-e17d9cf62f38\" class=\"sk-toggleable__label sk-toggleable__label-arrow\">Year-Of-Publication</label><div class=\"sk-toggleable__content\"><pre>[&#x27;Year-Of-Publication&#x27;]</pre></div></div></div><div class=\"sk-serial\"><div class=\"sk-item\"><div class=\"sk-serial\"><div class=\"sk-item\"><div class=\"sk-estimator sk-toggleable\"><input class=\"sk-toggleable__control sk-hidden--visually\" id=\"3d4460cc-b464-4695-9cc4-adb4a4c0436c\" type=\"checkbox\" ><label for=\"3d4460cc-b464-4695-9cc4-adb4a4c0436c\" class=\"sk-toggleable__label sk-toggleable__label-arrow\">SimpleImputer</label><div class=\"sk-toggleable__content\"><pre>SimpleImputer(strategy=&#x27;median&#x27;)</pre></div></div></div><div class=\"sk-item\"><div class=\"sk-estimator sk-toggleable\"><input class=\"sk-toggleable__control sk-hidden--visually\" id=\"70e9aa80-8544-4c2e-b885-6854010fbb6f\" type=\"checkbox\" ><label for=\"70e9aa80-8544-4c2e-b885-6854010fbb6f\" class=\"sk-toggleable__label sk-toggleable__label-arrow\">StandardScaler</label><div class=\"sk-toggleable__content\"><pre>StandardScaler()</pre></div></div></div></div></div></div></div></div><div class=\"sk-parallel-item\"><div class=\"sk-item\"><div class=\"sk-label-container\"><div class=\"sk-label sk-toggleable\"><input class=\"sk-toggleable__control sk-hidden--visually\" id=\"00be3092-8748-45e9-8fef-34f5dfab3295\" type=\"checkbox\" ><label for=\"00be3092-8748-45e9-8fef-34f5dfab3295\" class=\"sk-toggleable__label sk-toggleable__label-arrow\">Publisher</label><div class=\"sk-toggleable__content\"><pre>[&#x27;Publisher&#x27;]</pre></div></div></div><div class=\"sk-serial\"><div class=\"sk-item\"><div class=\"sk-serial\"><div class=\"sk-item\"><div class=\"sk-estimator sk-toggleable\"><input class=\"sk-toggleable__control sk-hidden--visually\" id=\"8ee5a6ab-a642-454d-bf13-f8749abce32f\" type=\"checkbox\" ><label for=\"8ee5a6ab-a642-454d-bf13-f8749abce32f\" class=\"sk-toggleable__label sk-toggleable__label-arrow\">SimpleImputer</label><div class=\"sk-toggleable__content\"><pre>SimpleImputer(fill_value=&#x27;&#x27;, strategy=&#x27;constant&#x27;)</pre></div></div></div><div class=\"sk-item\"><div class=\"sk-estimator sk-toggleable\"><input class=\"sk-toggleable__control sk-hidden--visually\" id=\"63e348fc-8f43-46d2-9b21-ef24d441be3d\" type=\"checkbox\" ><label for=\"63e348fc-8f43-46d2-9b21-ef24d441be3d\" class=\"sk-toggleable__label sk-toggleable__label-arrow\">FunctionTransformer</label><div class=\"sk-toggleable__content\"><pre>FunctionTransformer(func=&lt;function get_2d_to_1d at 0x7f456609a5e0&gt;)</pre></div></div></div><div class=\"sk-item\"><div class=\"sk-estimator sk-toggleable\"><input class=\"sk-toggleable__control sk-hidden--visually\" id=\"71236156-6929-48e8-907b-21418fed6c28\" type=\"checkbox\" ><label for=\"71236156-6929-48e8-907b-21418fed6c28\" class=\"sk-toggleable__label sk-toggleable__label-arrow\">TfidfVectorizer</label><div class=\"sk-toggleable__content\"><pre>TfidfVectorizer(analyzer=&#x27;char&#x27;, ngram_range=(2, 2))</pre></div></div></div></div></div></div></div></div></div></div></div></div>"
            ]
          },
          "metadata": {},
          "execution_count": 36
        }
      ],
      "source": [
        "#just having a glipmse of our preprocessing\n",
        "\n",
        "HTML(estimator_html_repr(preprocessor_items))"
      ]
    },
    {
      "cell_type": "code",
      "source": [],
      "metadata": {
        "id": "ABNtLBFg40CW"
      },
      "id": "ABNtLBFg40CW",
      "execution_count": null,
      "outputs": []
    },
    {
      "cell_type": "code",
      "execution_count": null,
      "id": "925021f5",
      "metadata": {
        "execution": {
          "iopub.execute_input": "2022-08-12T06:20:33.031865Z",
          "iopub.status.busy": "2022-08-12T06:20:33.031431Z",
          "iopub.status.idle": "2022-08-12T06:20:33.062228Z",
          "shell.execute_reply": "2022-08-12T06:20:33.060848Z"
        },
        "papermill": {
          "duration": 0.042949,
          "end_time": "2022-08-12T06:20:33.064845",
          "exception": false,
          "start_time": "2022-08-12T06:20:33.021896",
          "status": "completed"
        },
        "tags": [],
        "colab": {
          "base_uri": "https://localhost:8080/",
          "height": 187
        },
        "id": "925021f5",
        "outputId": "3db639ac-f59a-467a-f2fd-d811892ec654"
      },
      "outputs": [
        {
          "output_type": "execute_result",
          "data": {
            "text/plain": [
              "<IPython.core.display.HTML object>"
            ],
            "text/html": [
              "<style>#sk-ae53a351-ff36-4ea8-95f8-04a51f4e5b66 {color: black;background-color: white;}#sk-ae53a351-ff36-4ea8-95f8-04a51f4e5b66 pre{padding: 0;}#sk-ae53a351-ff36-4ea8-95f8-04a51f4e5b66 div.sk-toggleable {background-color: white;}#sk-ae53a351-ff36-4ea8-95f8-04a51f4e5b66 label.sk-toggleable__label {cursor: pointer;display: block;width: 100%;margin-bottom: 0;padding: 0.3em;box-sizing: border-box;text-align: center;}#sk-ae53a351-ff36-4ea8-95f8-04a51f4e5b66 label.sk-toggleable__label-arrow:before {content: \"▸\";float: left;margin-right: 0.25em;color: #696969;}#sk-ae53a351-ff36-4ea8-95f8-04a51f4e5b66 label.sk-toggleable__label-arrow:hover:before {color: black;}#sk-ae53a351-ff36-4ea8-95f8-04a51f4e5b66 div.sk-estimator:hover label.sk-toggleable__label-arrow:before {color: black;}#sk-ae53a351-ff36-4ea8-95f8-04a51f4e5b66 div.sk-toggleable__content {max-height: 0;max-width: 0;overflow: hidden;text-align: left;background-color: #f0f8ff;}#sk-ae53a351-ff36-4ea8-95f8-04a51f4e5b66 div.sk-toggleable__content pre {margin: 0.2em;color: black;border-radius: 0.25em;background-color: #f0f8ff;}#sk-ae53a351-ff36-4ea8-95f8-04a51f4e5b66 input.sk-toggleable__control:checked~div.sk-toggleable__content {max-height: 200px;max-width: 100%;overflow: auto;}#sk-ae53a351-ff36-4ea8-95f8-04a51f4e5b66 input.sk-toggleable__control:checked~label.sk-toggleable__label-arrow:before {content: \"▾\";}#sk-ae53a351-ff36-4ea8-95f8-04a51f4e5b66 div.sk-estimator input.sk-toggleable__control:checked~label.sk-toggleable__label {background-color: #d4ebff;}#sk-ae53a351-ff36-4ea8-95f8-04a51f4e5b66 div.sk-label input.sk-toggleable__control:checked~label.sk-toggleable__label {background-color: #d4ebff;}#sk-ae53a351-ff36-4ea8-95f8-04a51f4e5b66 input.sk-hidden--visually {border: 0;clip: rect(1px 1px 1px 1px);clip: rect(1px, 1px, 1px, 1px);height: 1px;margin: -1px;overflow: hidden;padding: 0;position: absolute;width: 1px;}#sk-ae53a351-ff36-4ea8-95f8-04a51f4e5b66 div.sk-estimator {font-family: monospace;background-color: #f0f8ff;border: 1px dotted black;border-radius: 0.25em;box-sizing: border-box;margin-bottom: 0.5em;}#sk-ae53a351-ff36-4ea8-95f8-04a51f4e5b66 div.sk-estimator:hover {background-color: #d4ebff;}#sk-ae53a351-ff36-4ea8-95f8-04a51f4e5b66 div.sk-parallel-item::after {content: \"\";width: 100%;border-bottom: 1px solid gray;flex-grow: 1;}#sk-ae53a351-ff36-4ea8-95f8-04a51f4e5b66 div.sk-label:hover label.sk-toggleable__label {background-color: #d4ebff;}#sk-ae53a351-ff36-4ea8-95f8-04a51f4e5b66 div.sk-serial::before {content: \"\";position: absolute;border-left: 1px solid gray;box-sizing: border-box;top: 2em;bottom: 0;left: 50%;}#sk-ae53a351-ff36-4ea8-95f8-04a51f4e5b66 div.sk-serial {display: flex;flex-direction: column;align-items: center;background-color: white;padding-right: 0.2em;padding-left: 0.2em;}#sk-ae53a351-ff36-4ea8-95f8-04a51f4e5b66 div.sk-item {z-index: 1;}#sk-ae53a351-ff36-4ea8-95f8-04a51f4e5b66 div.sk-parallel {display: flex;align-items: stretch;justify-content: center;background-color: white;}#sk-ae53a351-ff36-4ea8-95f8-04a51f4e5b66 div.sk-parallel::before {content: \"\";position: absolute;border-left: 1px solid gray;box-sizing: border-box;top: 2em;bottom: 0;left: 50%;}#sk-ae53a351-ff36-4ea8-95f8-04a51f4e5b66 div.sk-parallel-item {display: flex;flex-direction: column;position: relative;background-color: white;}#sk-ae53a351-ff36-4ea8-95f8-04a51f4e5b66 div.sk-parallel-item:first-child::after {align-self: flex-end;width: 50%;}#sk-ae53a351-ff36-4ea8-95f8-04a51f4e5b66 div.sk-parallel-item:last-child::after {align-self: flex-start;width: 50%;}#sk-ae53a351-ff36-4ea8-95f8-04a51f4e5b66 div.sk-parallel-item:only-child::after {width: 0;}#sk-ae53a351-ff36-4ea8-95f8-04a51f4e5b66 div.sk-dashed-wrapped {border: 1px dashed gray;margin: 0 0.4em 0.5em 0.4em;box-sizing: border-box;padding-bottom: 0.4em;background-color: white;position: relative;}#sk-ae53a351-ff36-4ea8-95f8-04a51f4e5b66 div.sk-label label {font-family: monospace;font-weight: bold;background-color: white;display: inline-block;line-height: 1.2em;}#sk-ae53a351-ff36-4ea8-95f8-04a51f4e5b66 div.sk-label-container {position: relative;z-index: 2;text-align: center;}#sk-ae53a351-ff36-4ea8-95f8-04a51f4e5b66 div.sk-container {/* jupyter's `normalize.less` sets `[hidden] { display: none; }` but bootstrap.min.css set `[hidden] { display: none !important; }` so we also need the `!important` here to be able to override the default hidden behavior on the sphinx rendered scikit-learn.org. See: https://github.com/scikit-learn/scikit-learn/issues/21755 */display: inline-block !important;position: relative;}#sk-ae53a351-ff36-4ea8-95f8-04a51f4e5b66 div.sk-text-repr-fallback {display: none;}</style><div id=\"sk-ae53a351-ff36-4ea8-95f8-04a51f4e5b66\" class=\"sk-top-container\"><div class=\"sk-text-repr-fallback\"><pre>ColumnTransformer(transformers=[(&#x27;Location&#x27;,\n",
              "                                 Pipeline(steps=[(&#x27;impute&#x27;,\n",
              "                                                  SimpleImputer(fill_value=&#x27;&#x27;,\n",
              "                                                                strategy=&#x27;constant&#x27;)),\n",
              "                                                 (&#x27;reshape&#x27;,\n",
              "                                                  FunctionTransformer(func=&lt;function get_2d_to_1d at 0x7f456609a5e0&gt;)),\n",
              "                                                 (&#x27;encoder&#x27;,\n",
              "                                                  TfidfVectorizer(analyzer=&#x27;char&#x27;,\n",
              "                                                                  ngram_range=(2,\n",
              "                                                                               2)))]),\n",
              "                                 [&#x27;Location&#x27;]),\n",
              "                                (&#x27;Age&#x27;,\n",
              "                                 Pipeline(steps=[(&#x27;impute&#x27;,\n",
              "                                                  SimpleImputer(strategy=&#x27;median&#x27;)),\n",
              "                                                 (&#x27;encoder&#x27;,\n",
              "                                                  StandardScaler())]),\n",
              "                                 [&#x27;Age&#x27;])])</pre><b>Please rerun this cell to show the HTML repr or trust the notebook.</b></div><div class=\"sk-container\" hidden><div class=\"sk-item sk-dashed-wrapped\"><div class=\"sk-label-container\"><div class=\"sk-label sk-toggleable\"><input class=\"sk-toggleable__control sk-hidden--visually\" id=\"c6326e69-69a8-4ad3-8cad-9a8754ade6c2\" type=\"checkbox\" ><label for=\"c6326e69-69a8-4ad3-8cad-9a8754ade6c2\" class=\"sk-toggleable__label sk-toggleable__label-arrow\">ColumnTransformer</label><div class=\"sk-toggleable__content\"><pre>ColumnTransformer(transformers=[(&#x27;Location&#x27;,\n",
              "                                 Pipeline(steps=[(&#x27;impute&#x27;,\n",
              "                                                  SimpleImputer(fill_value=&#x27;&#x27;,\n",
              "                                                                strategy=&#x27;constant&#x27;)),\n",
              "                                                 (&#x27;reshape&#x27;,\n",
              "                                                  FunctionTransformer(func=&lt;function get_2d_to_1d at 0x7f456609a5e0&gt;)),\n",
              "                                                 (&#x27;encoder&#x27;,\n",
              "                                                  TfidfVectorizer(analyzer=&#x27;char&#x27;,\n",
              "                                                                  ngram_range=(2,\n",
              "                                                                               2)))]),\n",
              "                                 [&#x27;Location&#x27;]),\n",
              "                                (&#x27;Age&#x27;,\n",
              "                                 Pipeline(steps=[(&#x27;impute&#x27;,\n",
              "                                                  SimpleImputer(strategy=&#x27;median&#x27;)),\n",
              "                                                 (&#x27;encoder&#x27;,\n",
              "                                                  StandardScaler())]),\n",
              "                                 [&#x27;Age&#x27;])])</pre></div></div></div><div class=\"sk-parallel\"><div class=\"sk-parallel-item\"><div class=\"sk-item\"><div class=\"sk-label-container\"><div class=\"sk-label sk-toggleable\"><input class=\"sk-toggleable__control sk-hidden--visually\" id=\"30af0870-c264-4570-b12b-823a59f4919b\" type=\"checkbox\" ><label for=\"30af0870-c264-4570-b12b-823a59f4919b\" class=\"sk-toggleable__label sk-toggleable__label-arrow\">Location</label><div class=\"sk-toggleable__content\"><pre>[&#x27;Location&#x27;]</pre></div></div></div><div class=\"sk-serial\"><div class=\"sk-item\"><div class=\"sk-serial\"><div class=\"sk-item\"><div class=\"sk-estimator sk-toggleable\"><input class=\"sk-toggleable__control sk-hidden--visually\" id=\"6574b97d-ebcf-4c1a-847c-54e600e49320\" type=\"checkbox\" ><label for=\"6574b97d-ebcf-4c1a-847c-54e600e49320\" class=\"sk-toggleable__label sk-toggleable__label-arrow\">SimpleImputer</label><div class=\"sk-toggleable__content\"><pre>SimpleImputer(fill_value=&#x27;&#x27;, strategy=&#x27;constant&#x27;)</pre></div></div></div><div class=\"sk-item\"><div class=\"sk-estimator sk-toggleable\"><input class=\"sk-toggleable__control sk-hidden--visually\" id=\"0eaa5623-5280-43bb-8efd-0a702e592055\" type=\"checkbox\" ><label for=\"0eaa5623-5280-43bb-8efd-0a702e592055\" class=\"sk-toggleable__label sk-toggleable__label-arrow\">FunctionTransformer</label><div class=\"sk-toggleable__content\"><pre>FunctionTransformer(func=&lt;function get_2d_to_1d at 0x7f456609a5e0&gt;)</pre></div></div></div><div class=\"sk-item\"><div class=\"sk-estimator sk-toggleable\"><input class=\"sk-toggleable__control sk-hidden--visually\" id=\"9a109c93-1328-4650-8033-b65b4e08486a\" type=\"checkbox\" ><label for=\"9a109c93-1328-4650-8033-b65b4e08486a\" class=\"sk-toggleable__label sk-toggleable__label-arrow\">TfidfVectorizer</label><div class=\"sk-toggleable__content\"><pre>TfidfVectorizer(analyzer=&#x27;char&#x27;, ngram_range=(2, 2))</pre></div></div></div></div></div></div></div></div><div class=\"sk-parallel-item\"><div class=\"sk-item\"><div class=\"sk-label-container\"><div class=\"sk-label sk-toggleable\"><input class=\"sk-toggleable__control sk-hidden--visually\" id=\"65a88aaf-060e-42eb-bc6c-254df2a846c4\" type=\"checkbox\" ><label for=\"65a88aaf-060e-42eb-bc6c-254df2a846c4\" class=\"sk-toggleable__label sk-toggleable__label-arrow\">Age</label><div class=\"sk-toggleable__content\"><pre>[&#x27;Age&#x27;]</pre></div></div></div><div class=\"sk-serial\"><div class=\"sk-item\"><div class=\"sk-serial\"><div class=\"sk-item\"><div class=\"sk-estimator sk-toggleable\"><input class=\"sk-toggleable__control sk-hidden--visually\" id=\"5eda4892-a13f-409e-b2ff-341bb7aaf747\" type=\"checkbox\" ><label for=\"5eda4892-a13f-409e-b2ff-341bb7aaf747\" class=\"sk-toggleable__label sk-toggleable__label-arrow\">SimpleImputer</label><div class=\"sk-toggleable__content\"><pre>SimpleImputer(strategy=&#x27;median&#x27;)</pre></div></div></div><div class=\"sk-item\"><div class=\"sk-estimator sk-toggleable\"><input class=\"sk-toggleable__control sk-hidden--visually\" id=\"ce18edf1-df29-4dee-8d17-1e97f5d12ece\" type=\"checkbox\" ><label for=\"ce18edf1-df29-4dee-8d17-1e97f5d12ece\" class=\"sk-toggleable__label sk-toggleable__label-arrow\">StandardScaler</label><div class=\"sk-toggleable__content\"><pre>StandardScaler()</pre></div></div></div></div></div></div></div></div></div></div></div></div>"
            ]
          },
          "metadata": {},
          "execution_count": 37
        }
      ],
      "source": [
        "HTML(estimator_html_repr(preprocessor_users))"
      ]
    },
    {
      "cell_type": "markdown",
      "source": [
        "When working with tensors that contain a lot of zero values, it is important to store them in a space- and time-efficient manner. Sparse tensors enable efficient storage and processing of tensors that contain a lot of zero values. Sparse tensors are used extensively in encoding schemes like TF-IDF as part of data pre-processing in NLP applications and for pre-processing images with a lot of dark pixels in computer vision applications.\n",
        "\n",
        "Sparse tensors in TensorFlow\n",
        "TensorFlow represents sparse tensors through the tf.sparse.SparseTensor object. Currently, sparse tensors in TensorFlow are encoded using the coordinate list (COO) format. This encoding format is optimized for hyper-sparse matrices such as embeddings.\n",
        "\n",
        "The COO encoding for sparse tensors is comprised of:\n",
        "\n",
        "values: A 1D tensor with shape [N] containing all nonzero values.\n",
        "indices: A 2D tensor with shape [N, rank], containing the indices of the nonzero values.\n",
        "dense_shape: A 1D tensor with shape [rank], specifying the shape of the tensor.\n",
        "A nonzero value in the context of a tf.sparse.SparseTensor is a value that's not explicitly encoded. It is possible to explicitly include zero values in the values of a COO sparse matrix, but these \"explicit zeros\" are generally not included when referring to nonzero values in a sparse tensor."
      ],
      "metadata": {
        "id": "B4gHjVboIFIe"
      },
      "id": "B4gHjVboIFIe"
    },
    {
      "cell_type": "code",
      "execution_count": null,
      "id": "78ee8019",
      "metadata": {
        "execution": {
          "iopub.execute_input": "2022-08-12T06:20:33.084933Z",
          "iopub.status.busy": "2022-08-12T06:20:33.082857Z",
          "iopub.status.idle": "2022-08-12T06:20:33.090296Z",
          "shell.execute_reply": "2022-08-12T06:20:33.089009Z"
        },
        "papermill": {
          "duration": 0.019784,
          "end_time": "2022-08-12T06:20:33.092972",
          "exception": false,
          "start_time": "2022-08-12T06:20:33.073188",
          "status": "completed"
        },
        "tags": [],
        "id": "78ee8019"
      },
      "outputs": [],
      "source": [
        "def sparse_array_to_sparse_tensor(X):\n",
        "    coo = X.tocoo()\n",
        "    indices = np.mat([coo.row, coo.col]).transpose()\n",
        "    return tf.sparse.reorder(tf.SparseTensor(indices, coo.data, coo.shape))"
      ]
    },
    {
      "cell_type": "code",
      "source": [
        "from scipy.sparse import csr_matrix\n",
        "\n",
        "x_item_pca=csr_matrix(x_item)\n",
        "x_user_pca=csr_matrix(x_user)\n"
      ],
      "metadata": {
        "id": "Cx8RMxG3Frbb"
      },
      "id": "Cx8RMxG3Frbb",
      "execution_count": null,
      "outputs": []
    },
    {
      "cell_type": "code",
      "execution_count": null,
      "id": "91365967",
      "metadata": {
        "execution": {
          "iopub.execute_input": "2022-08-12T06:20:33.111823Z",
          "iopub.status.busy": "2022-08-12T06:20:33.111436Z",
          "iopub.status.idle": "2022-08-12T06:20:42.504589Z",
          "shell.execute_reply": "2022-08-12T06:20:42.503206Z"
        },
        "papermill": {
          "duration": 9.406493,
          "end_time": "2022-08-12T06:20:42.507876",
          "exception": false,
          "start_time": "2022-08-12T06:20:33.101383",
          "status": "completed"
        },
        "tags": [],
        "id": "91365967"
      },
      "outputs": [],
      "source": [
        "# item_train= sparse_array_to_sparse_tensor(x_item)\n",
        "# item_test= sparse_array_to_sparse_tensor(x_item)\n",
        "# user_train= sparse_array_to_sparse_tensor(user_train)\n",
        "# user_test= sparse_array_to_sparse_tensor(user_test)\n",
        "# y_train= y\n",
        "# y_test= y\n",
        "\n",
        "\n",
        "\n",
        "\n",
        "\n",
        "x_item = sparse_array_to_sparse_tensor(x_item)\n",
        "x_user = sparse_array_to_sparse_tensor(x_user)\n",
        "y = y"
      ]
    },
    {
      "cell_type": "code",
      "execution_count": null,
      "metadata": {
        "id": "9wi_z2ZqpfYM"
      },
      "outputs": [],
      "source": [
        "# # scale training data\n",
        "# sc = StandardScaler(with_mean=False)\n",
        "# item_train = sc.fit_transform(item_train)\n",
        "# user_train = sc.fit_transform(user_train)\n",
        "# item_train_unscaled = item_train\n",
        "# user_train_unscaled = user_train\n",
        "# y_train_unscaled    = y_train\n",
        "\n",
        "# # scalerItem = StandardScaler()\n",
        "# # scalerItem.fit(item_train)\n",
        "# # item_train = scalerItem.transform(item_train)\n",
        "\n",
        "# # scalerUser = StandardScaler()\n",
        "# # scalerUser.fit(user_train)\n",
        "# # user_train = scalerUser.transform(user_train)\n",
        "\n",
        "# # scalerTarget = MinMaxScaler((-1, 1))\n",
        "# # scalerTarget.fit(y_train.reshape(-1, 1))\n",
        "# # y_train = scalerTarget.transform(y_train.reshape(-1, 1))\n",
        "# # #ynorm_test = scalerTarget.transform(y_test.reshape(-1, 1))\n",
        "\n",
        "# # print(np.allclose(item_train_unscaled, scalerItem.inverse_transform(item_train)))\n",
        "# # print(np.allclose(user_train_unscaled, scalerUser.inverse_transform(user_train)))"
      ],
      "id": "9wi_z2ZqpfYM"
    },
    {
      "cell_type": "code",
      "source": [
        "\n",
        "print(f\"book/item training data shape: {x_item.shape}\")\n",
        "print(f\"book/item test data shape: {x_user.shape}\")"
      ],
      "metadata": {
        "id": "wLytRHW95G4-",
        "colab": {
          "base_uri": "https://localhost:8080/"
        },
        "outputId": "64f50fb3-970c-4943-ba7d-55ea3e7d7c5d"
      },
      "id": "wLytRHW95G4-",
      "execution_count": null,
      "outputs": [
        {
          "output_type": "stream",
          "name": "stdout",
          "text": [
            "book/item training data shape: (1149780, 5478)\n",
            "book/item test data shape: (1149780, 1687)\n"
          ]
        }
      ]
    },
    {
      "cell_type": "code",
      "source": [
        "#changed layer density from 32 to 24\n",
        "#model can be improved by varying learning rate ,number of epochs,"
      ],
      "metadata": {
        "id": "0t8Xtz-dItfP"
      },
      "id": "0t8Xtz-dItfP",
      "execution_count": null,
      "outputs": []
    },
    {
      "cell_type": "markdown",
      "id": "bced54c2",
      "metadata": {
        "papermill": {
          "duration": 0.008865,
          "end_time": "2022-08-12T06:20:42.525712",
          "exception": false,
          "start_time": "2022-08-12T06:20:42.516847",
          "status": "completed"
        },
        "tags": [],
        "id": "bced54c2"
      },
      "source": [
        "**Building the Neural Networks**"
      ]
    },
    {
      "cell_type": "markdown",
      "source": [],
      "metadata": {
        "id": "X7fUtrtYXKk-"
      },
      "id": "X7fUtrtYXKk-"
    },
    {
      "cell_type": "code",
      "execution_count": null,
      "id": "8b265f4c",
      "metadata": {
        "execution": {
          "iopub.execute_input": "2022-08-12T06:20:42.545704Z",
          "iopub.status.busy": "2022-08-12T06:20:42.543792Z",
          "iopub.status.idle": "2022-08-12T06:20:42.663707Z",
          "shell.execute_reply": "2022-08-12T06:20:42.662450Z"
        },
        "papermill": {
          "duration": 0.132691,
          "end_time": "2022-08-12T06:20:42.667052",
          "exception": false,
          "start_time": "2022-08-12T06:20:42.534361",
          "status": "completed"
        },
        "tags": [],
        "id": "8b265f4c"
      },
      "outputs": [],
      "source": [
        "items_input = layers.Input(shape=(x_item.shape[1]))\n",
        "items_ = layers.Dense(32, activation='relu')(items_input)\n",
        "items_vector = layers.Dense(32, activation='relu')(items_)\n",
        "\n",
        "users_input = layers.Input(shape=(x_user.shape[1]))\n",
        "users_ = layers.Dense(32, activation='relu')(users_input)\n",
        "users_vector = layers.Dense(32, activation='relu')(users_)\n",
        "\n",
        "items_norm = tf.linalg.l2_normalize(items_vector, axis=1)\n",
        "users_norm = tf.linalg.l2_normalize(users_vector, axis=1)\n",
        "\n",
        "output = layers.Dot(axes=1)([items_norm, users_norm])\n",
        "\n",
        "model = models.Model([items_input, users_input], output)"
      ]
    },
    {
      "cell_type": "code",
      "execution_count": null,
      "id": "289415ab",
      "metadata": {
        "execution": {
          "iopub.execute_input": "2022-08-12T06:20:42.686977Z",
          "iopub.status.busy": "2022-08-12T06:20:42.686625Z",
          "iopub.status.idle": "2022-08-12T06:20:44.031458Z",
          "shell.execute_reply": "2022-08-12T06:20:44.029709Z"
        },
        "papermill": {
          "duration": 1.358532,
          "end_time": "2022-08-12T06:20:44.034778",
          "exception": false,
          "start_time": "2022-08-12T06:20:42.676246",
          "status": "completed"
        },
        "tags": [],
        "colab": {
          "base_uri": "https://localhost:8080/",
          "height": 533
        },
        "id": "289415ab",
        "outputId": "a215180b-e66d-472d-b492-c4d6f0af5caa"
      },
      "outputs": [
        {
          "output_type": "execute_result",
          "data": {
            "image/png": "[encoded data removed]",
            "text/plain": [
              "<IPython.core.display.Image object>"
            ]
          },
          "metadata": {},
          "execution_count": 12
        }
      ],
      "source": [
        "utils.plot_model(model, show_shapes=True, expand_nested=True)"
      ]
    },
    {
      "cell_type": "markdown",
      "source": [
        "In machine learning, early stopping is a form of regularization used to avoid overfitting when training a learner with an iterative method, such as gradient descent. Such methods update the learner so as to make it better fit the training data with each iteration."
      ],
      "metadata": {
        "id": "yhmRJ1h3oSuH"
      },
      "id": "yhmRJ1h3oSuH"
    },
    {
      "cell_type": "code",
      "execution_count": null,
      "id": "5f95ab2b",
      "metadata": {
        "execution": {
          "iopub.execute_input": "2022-08-12T06:20:44.058922Z",
          "iopub.status.busy": "2022-08-12T06:20:44.056772Z",
          "iopub.status.idle": "2022-08-12T13:03:32.506585Z",
          "shell.execute_reply": "2022-08-12T13:03:32.504915Z"
        },
        "papermill": {
          "duration": 24168.464695,
          "end_time": "2022-08-12T13:03:32.509785",
          "exception": false,
          "start_time": "2022-08-12T06:20:44.045090",
          "status": "completed"
        },
        "tags": [],
        "colab": {
          "base_uri": "https://localhost:8080/"
        },
        "id": "5f95ab2b",
        "outputId": "eff75819-a1bf-49a4-91a6-dcef016dbf30"
      },
      "outputs": [
        {
          "output_type": "stream",
          "name": "stdout",
          "text": [
            "Model: \"model\"\n",
            "__________________________________________________________________________________________________\n",
            " Layer (type)                   Output Shape         Param #     Connected to                     \n",
            "==================================================================================================\n",
            " input_1 (InputLayer)           [(None, 5478)]       0           []                               \n",
            "                                                                                                  \n",
            " input_2 (InputLayer)           [(None, 1687)]       0           []                               \n",
            "                                                                                                  \n",
            " dense (Dense)                  (None, 32)           175328      ['input_1[0][0]']                \n",
            "                                                                                                  \n",
            " dense_2 (Dense)                (None, 32)           54016       ['input_2[0][0]']                \n",
            "                                                                                                  \n",
            " dense_1 (Dense)                (None, 32)           1056        ['dense[0][0]']                  \n",
            "                                                                                                  \n",
            " dense_3 (Dense)                (None, 32)           1056        ['dense_2[0][0]']                \n",
            "                                                                                                  \n",
            " tf.math.l2_normalize (TFOpLamb  (None, 32)          0           ['dense_1[0][0]']                \n",
            " da)                                                                                              \n",
            "                                                                                                  \n",
            " tf.math.l2_normalize_1 (TFOpLa  (None, 32)          0           ['dense_3[0][0]']                \n",
            " mbda)                                                                                            \n",
            "                                                                                                  \n",
            " dot (Dot)                      (None, 1)            0           ['tf.math.l2_normalize[0][0]',   \n",
            "                                                                  'tf.math.l2_normalize_1[0][0]'] \n",
            "                                                                                                  \n",
            "==================================================================================================\n",
            "Total params: 231,456\n",
            "Trainable params: 231,456\n",
            "Non-trainable params: 0\n",
            "__________________________________________________________________________________________________\n"
          ]
        },
        {
          "output_type": "stream",
          "name": "stderr",
          "text": [
            "/usr/local/lib/python3.8/dist-packages/tensorflow/python/framework/indexed_slices.py:444: UserWarning: Converting sparse IndexedSlices(IndexedSlices(indices=Tensor(\"gradient_tape/model/dense/embedding_lookup_sparse/Reshape_1:0\", shape=(None,), dtype=int32), values=Tensor(\"gradient_tape/model/dense/embedding_lookup_sparse/Reshape:0\", shape=(None, 32), dtype=float32), dense_shape=Tensor(\"gradient_tape/model/dense/embedding_lookup_sparse/Cast:0\", shape=(2,), dtype=int32))) to a dense Tensor of unknown shape. This may consume a large amount of memory.\n",
            "  warnings.warn(\n",
            "/usr/local/lib/python3.8/dist-packages/tensorflow/python/framework/indexed_slices.py:444: UserWarning: Converting sparse IndexedSlices(IndexedSlices(indices=Tensor(\"gradient_tape/model/dense_2/embedding_lookup_sparse/Reshape_1:0\", shape=(None,), dtype=int32), values=Tensor(\"gradient_tape/model/dense_2/embedding_lookup_sparse/Reshape:0\", shape=(None, 32), dtype=float32), dense_shape=Tensor(\"gradient_tape/model/dense_2/embedding_lookup_sparse/Cast:0\", shape=(2,), dtype=int32))) to a dense Tensor of unknown shape. This may consume a large amount of memory.\n",
            "  warnings.warn(\n"
          ]
        },
        {
          "output_type": "stream",
          "name": "stdout",
          "text": [
            "35931/35931 [==============================] - 199s 5ms/step - loss: 0.1295 - lr: 0.0050\n"
          ]
        },
        {
          "output_type": "execute_result",
          "data": {
            "text/plain": [
              "<keras.callbacks.History at 0x7f455a664550>"
            ]
          },
          "metadata": {},
          "execution_count": 43
        }
      ],
      "source": [
        "#we can use different optimizer and different learning rate \n",
        "model.compile(loss='mean_squared_error', optimizer=tf.keras.optimizers.Adam(0.005))\n",
        "model.summary()\n",
        "\n",
        "es = callbacks.EarlyStopping(monitor='loss', patience=5, verbose=1, restore_best_weights=True)\n",
        "rlp = callbacks.ReduceLROnPlateau(monitor='loss', patience=2, verbose=1)\n",
        "\n",
        "model.fit([x_item, x_user], y, callbacks=[es, rlp], epochs=1)"
      ]
    },
    {
      "cell_type": "markdown",
      "id": "3d064513",
      "metadata": {
        "papermill": {
          "duration": 32.508202,
          "end_time": "2022-08-12T13:04:37.559269",
          "exception": false,
          "start_time": "2022-08-12T13:04:05.051067",
          "status": "completed"
        },
        "tags": [],
        "id": "3d064513"
      },
      "source": [
        "# Saving the models"
      ]
    },
    {
      "cell_type": "code",
      "execution_count": null,
      "id": "38de5b32",
      "metadata": {
        "execution": {
          "iopub.execute_input": "2022-08-12T13:05:42.461223Z",
          "iopub.status.busy": "2022-08-12T13:05:42.459744Z",
          "iopub.status.idle": "2022-08-12T13:05:44.298662Z",
          "shell.execute_reply": "2022-08-12T13:05:44.297195Z"
        },
        "papermill": {
          "duration": 34.494558,
          "end_time": "2022-08-12T13:05:44.302138",
          "exception": false,
          "start_time": "2022-08-12T13:05:09.807580",
          "status": "completed"
        },
        "tags": [],
        "colab": {
          "base_uri": "https://localhost:8080/"
        },
        "id": "38de5b32",
        "outputId": "de4d2fcf-1517-4768-a1de-5279a0d57379"
      },
      "outputs": [
        {
          "output_type": "stream",
          "name": "stderr",
          "text": [
            "WARNING:tensorflow:Compiled the loaded model, but the compiled metrics have yet to be built. `model.compile_metrics` will be empty until you train or evaluate the model.\n",
            "WARNING:tensorflow:Compiled the loaded model, but the compiled metrics have yet to be built. `model.compile_metrics` will be empty until you train or evaluate the model.\n"
          ]
        }
      ],
      "source": [
        "model_items = models.Model(items_input, items_vector)\n",
        "model_users = models.Model(users_input, users_vector)\n",
        "\n",
        "joblib.dump(preprocessor_items, 'preprocessor_items.bin')\n",
        "joblib.dump(preprocessor_users, 'preprocessor_users.bin')\n",
        "\n",
        "model_items.save('model_items.h1')\n",
        "model_users.save('model_users.h1')\n",
        "model.save('model.h1')"
      ]
    },
    {
      "cell_type": "code",
      "execution_count": null,
      "id": "c1383338",
      "metadata": {
        "execution": {
          "iopub.execute_input": "2022-08-12T13:06:47.641946Z",
          "iopub.status.busy": "2022-08-12T13:06:47.641490Z",
          "iopub.status.idle": "2022-08-12T13:06:47.683141Z",
          "shell.execute_reply": "2022-08-12T13:06:47.681809Z"
        },
        "papermill": {
          "duration": 32.192047,
          "end_time": "2022-08-12T13:06:47.686107",
          "exception": false,
          "start_time": "2022-08-12T13:06:15.494060",
          "status": "completed"
        },
        "tags": [],
        "colab": {
          "base_uri": "https://localhost:8080/"
        },
        "id": "c1383338",
        "outputId": "4993bb4d-a82a-454b-cd43-b16526f2f789"
      },
      "outputs": [
        {
          "output_type": "stream",
          "name": "stderr",
          "text": [
            "WARNING:tensorflow:Compiled the loaded model, but the compiled metrics have yet to be built. `model.compile_metrics` will be empty until you train or evaluate the model.\n"
          ]
        }
      ],
      "source": [
        "input_items_vec = layers.Input(shape=(32))\n",
        "norm_items = tf.linalg.l2_normalize(input_items_vec, axis=1)\n",
        "input_users_vec = layers.Input(shape=(32))\n",
        "norm_users = tf.linalg.l2_normalize(input_users_vec, axis=1)\n",
        "output = layers.Dot(axes=1)([norm_items, norm_users])\n",
        "dot_model = models.Model([input_items_vec, input_users_vec], output)\n",
        "dot_model.save('dot_model.h1')"
      ]
    },
    {
      "cell_type": "markdown",
      "id": "06825a42",
      "metadata": {
        "papermill": {
          "duration": 31.603463,
          "end_time": "2022-08-12T13:07:51.184572",
          "exception": false,
          "start_time": "2022-08-12T13:07:19.581109",
          "status": "completed"
        },
        "tags": [],
        "id": "06825a42"
      },
      "source": [
        "# Getting Recommendations"
      ]
    },
    {
      "cell_type": "code",
      "source": [
        "new_user = pd.DataFrame({'Location': ['Istanbul, Turkey'], 'Age': [33]})\n",
        "new_user_preprocessed = preprocessor_users.transform(new_user)\n",
        "new_user_vector = model_users.predict(new_user_preprocessed)\n",
        "new_user_vector.shape"
      ],
      "metadata": {
        "colab": {
          "base_uri": "https://localhost:8080/"
        },
        "id": "hccOakMd-5ls",
        "outputId": "51733484-967b-45b6-a661-196e1634c06f"
      },
      "id": "hccOakMd-5ls",
      "execution_count": null,
      "outputs": [
        {
          "output_type": "stream",
          "name": "stdout",
          "text": [
            "1/1 [==============================] - 0s 94ms/step\n"
          ]
        },
        {
          "output_type": "execute_result",
          "data": {
            "text/plain": [
              "(1, 32)"
            ]
          },
          "metadata": {},
          "execution_count": 47
        }
      ]
    },
    {
      "cell_type": "code",
      "source": [
        "new_user_vector"
      ],
      "metadata": {
        "colab": {
          "base_uri": "https://localhost:8080/"
        },
        "id": "Lo5e7-SE1nvs",
        "outputId": "21dc3b0d-436d-4c2f-ea08-fd46a9569400"
      },
      "id": "Lo5e7-SE1nvs",
      "execution_count": null,
      "outputs": [
        {
          "output_type": "execute_result",
          "data": {
            "text/plain": [
              "array([[0.00000000e+00, 0.00000000e+00, 2.94611192e+00, 3.87410045e-01,\n",
              "        0.00000000e+00, 0.00000000e+00, 0.00000000e+00, 0.00000000e+00,\n",
              "        0.00000000e+00, 0.00000000e+00, 0.00000000e+00, 3.06367874e-05,\n",
              "        0.00000000e+00, 2.74166012e+00, 2.63923615e-01, 0.00000000e+00,\n",
              "        2.36511350e-01, 0.00000000e+00, 1.62796557e-01, 0.00000000e+00,\n",
              "        0.00000000e+00, 1.09524846e-01, 2.24046588e-01, 4.13349628e+00,\n",
              "        0.00000000e+00, 0.00000000e+00, 0.00000000e+00, 4.11733437e+00,\n",
              "        0.00000000e+00, 0.00000000e+00, 0.00000000e+00, 0.00000000e+00]],\n",
              "      dtype=float32)"
            ]
          },
          "metadata": {},
          "execution_count": 48
        }
      ]
    },
    {
      "cell_type": "code",
      "execution_count": null,
      "id": "5076bdca",
      "metadata": {
        "execution": {
          "iopub.execute_input": "2022-08-12T13:09:57.320051Z",
          "iopub.status.busy": "2022-08-12T13:09:57.318733Z",
          "iopub.status.idle": "2022-08-12T13:10:38.625933Z",
          "shell.execute_reply": "2022-08-12T13:10:38.624465Z"
        },
        "papermill": {
          "duration": 72.164986,
          "end_time": "2022-08-12T13:10:38.629637",
          "exception": false,
          "start_time": "2022-08-12T13:09:26.464651",
          "status": "completed"
        },
        "tags": [],
        "colab": {
          "base_uri": "https://localhost:8080/"
        },
        "id": "5076bdca",
        "outputId": "4fe9fa75-d400-4ac2-e73c-f7fce030b44a"
      },
      "outputs": [
        {
          "output_type": "stream",
          "name": "stdout",
          "text": [
            "8480/8480 [==============================] - 18s 2ms/step\n"
          ]
        },
        {
          "output_type": "execute_result",
          "data": {
            "text/plain": [
              "(271360, 32)"
            ]
          },
          "metadata": {},
          "execution_count": 49
        }
      ],
      "source": [
        "all_item_preprocessed = preprocessor_items.transform(books[book_features])\n",
        "all_item_vector = model_items.predict(all_item_preprocessed)\n",
        "all_item_vector.shape"
      ]
    },
    {
      "cell_type": "code",
      "execution_count": null,
      "id": "d1d0801e",
      "metadata": {
        "execution": {
          "iopub.execute_input": "2022-08-12T13:11:41.107547Z",
          "iopub.status.busy": "2022-08-12T13:11:41.107093Z",
          "iopub.status.idle": "2022-08-12T13:11:51.608175Z",
          "shell.execute_reply": "2022-08-12T13:11:51.606764Z"
        },
        "papermill": {
          "duration": 42.538465,
          "end_time": "2022-08-12T13:11:51.611295",
          "exception": false,
          "start_time": "2022-08-12T13:11:09.072830",
          "status": "completed"
        },
        "tags": [],
        "colab": {
          "base_uri": "https://localhost:8080/"
        },
        "id": "d1d0801e",
        "outputId": "ececec08-0431-4309-b8ea-04818052d2e5"
      },
      "outputs": [
        {
          "output_type": "stream",
          "name": "stdout",
          "text": [
            "8480/8480 [==============================] - 11s 1ms/step\n"
          ]
        }
      ],
      "source": [
        "new_user_vector = np.broadcast_to(new_user_vector, all_item_vector.shape)\n",
        "preds = dot_model.predict([new_user_vector, all_item_vector])\n",
        "books['preds'] = preds"
      ]
    },
    {
      "cell_type": "markdown",
      "id": "a4894234",
      "metadata": {
        "papermill": {
          "duration": 30.622649,
          "end_time": "2022-08-12T13:12:53.604994",
          "exception": false,
          "start_time": "2022-08-12T13:12:22.982345",
          "status": "completed"
        },
        "tags": [],
        "id": "a4894234"
      },
      "source": [
        "**Recommendations**"
      ]
    },
    {
      "cell_type": "code",
      "execution_count": null,
      "id": "e08d32a2",
      "metadata": {
        "execution": {
          "iopub.execute_input": "2022-08-12T13:13:56.511222Z",
          "iopub.status.busy": "2022-08-12T13:13:56.510738Z",
          "iopub.status.idle": "2022-08-12T13:13:56.730793Z",
          "shell.execute_reply": "2022-08-12T13:13:56.729241Z"
        },
        "papermill": {
          "duration": 31.182997,
          "end_time": "2022-08-12T13:13:56.733463",
          "exception": false,
          "start_time": "2022-08-12T13:13:25.550466",
          "status": "completed"
        },
        "tags": [],
        "colab": {
          "base_uri": "https://localhost:8080/",
          "height": 444
        },
        "id": "e08d32a2",
        "outputId": "a88acea8-b521-417b-f76a-3e6e26148701"
      },
      "outputs": [
        {
          "output_type": "execute_result",
          "data": {
            "text/plain": [
              "              ISBN                  Book-Title                Book-Author  \\\n",
              "13579   1569314748      X/1999-Duet   (Book 6)                      Clamp   \n",
              "187089  1569318964     Fugue (X/1999, Vol. 10)                      Clamp   \n",
              "13580   1569314071  X/1999 : Serenade (X/1999)                      Clamp   \n",
              "55023   0553078755                     Ishmael               Daniel Quinn   \n",
              "72162   0152023984           The Little Prince  Antoine de Saint-ExupÃ©ry   \n",
              "\n",
              "        Year-Of-Publication                  Publisher  \\\n",
              "13579                2000.0                    VIZ LLC   \n",
              "187089               2003.0                    VIZ LLC   \n",
              "13580                1999.0                    VIZ LLC   \n",
              "55023                1997.0                     Bantam   \n",
              "72162                2000.0  Harcourt Children's Books   \n",
              "\n",
              "                                              Image-URL-S  \\\n",
              "13579   http://images.amazon.com/images/P/1569314748.0...   \n",
              "187089  http://images.amazon.com/images/P/1569318964.0...   \n",
              "13580   http://images.amazon.com/images/P/1569314071.0...   \n",
              "55023   http://images.amazon.com/images/P/0553078755.0...   \n",
              "72162   http://images.amazon.com/images/P/0152023984.0...   \n",
              "\n",
              "                                              Image-URL-M  \\\n",
              "13579   http://images.amazon.com/images/P/1569314748.0...   \n",
              "187089  http://images.amazon.com/images/P/1569318964.0...   \n",
              "13580   http://images.amazon.com/images/P/1569314071.0...   \n",
              "55023   http://images.amazon.com/images/P/0553078755.0...   \n",
              "72162   http://images.amazon.com/images/P/0152023984.0...   \n",
              "\n",
              "                                              Image-URL-L     preds  \n",
              "13579   http://images.amazon.com/images/P/1569314748.0...  0.642263  \n",
              "187089  http://images.amazon.com/images/P/1569318964.0...  0.635943  \n",
              "13580   http://images.amazon.com/images/P/1569314071.0...  0.632374  \n",
              "55023   http://images.amazon.com/images/P/0553078755.0...  0.627738  \n",
              "72162   http://images.amazon.com/images/P/0152023984.0...  0.623991  "
            ],
            "text/html": [
              "\n",
              "  <div id=\"df-5e454e5c-ac93-414a-ae3b-574b15c398f1\">\n",
              "    <div class=\"colab-df-container\">\n",
              "      <div>\n",
              "<style scoped>\n",
              "    .dataframe tbody tr th:only-of-type {\n",
              "        vertical-align: middle;\n",
              "    }\n",
              "\n",
              "    .dataframe tbody tr th {\n",
              "        vertical-align: top;\n",
              "    }\n",
              "\n",
              "    .dataframe thead th {\n",
              "        text-align: right;\n",
              "    }\n",
              "</style>\n",
              "<table border=\"1\" class=\"dataframe\">\n",
              "  <thead>\n",
              "    <tr style=\"text-align: right;\">\n",
              "      <th></th>\n",
              "      <th>ISBN</th>\n",
              "      <th>Book-Title</th>\n",
              "      <th>Book-Author</th>\n",
              "      <th>Year-Of-Publication</th>\n",
              "      <th>Publisher</th>\n",
              "      <th>Image-URL-S</th>\n",
              "      <th>Image-URL-M</th>\n",
              "      <th>Image-URL-L</th>\n",
              "      <th>preds</th>\n",
              "    </tr>\n",
              "  </thead>\n",
              "  <tbody>\n",
              "    <tr>\n",
              "      <th>13579</th>\n",
              "      <td>1569314748</td>\n",
              "      <td>X/1999-Duet   (Book 6)</td>\n",
              "      <td>Clamp</td>\n",
              "      <td>2000.0</td>\n",
              "      <td>VIZ LLC</td>\n",
              "      <td>http://images.amazon.com/images/P/1569314748.0...</td>\n",
              "      <td>http://images.amazon.com/images/P/1569314748.0...</td>\n",
              "      <td>http://images.amazon.com/images/P/1569314748.0...</td>\n",
              "      <td>0.642263</td>\n",
              "    </tr>\n",
              "    <tr>\n",
              "      <th>187089</th>\n",
              "      <td>1569318964</td>\n",
              "      <td>Fugue (X/1999, Vol. 10)</td>\n",
              "      <td>Clamp</td>\n",
              "      <td>2003.0</td>\n",
              "      <td>VIZ LLC</td>\n",
              "      <td>http://images.amazon.com/images/P/1569318964.0...</td>\n",
              "      <td>http://images.amazon.com/images/P/1569318964.0...</td>\n",
              "      <td>http://images.amazon.com/images/P/1569318964.0...</td>\n",
              "      <td>0.635943</td>\n",
              "    </tr>\n",
              "    <tr>\n",
              "      <th>13580</th>\n",
              "      <td>1569314071</td>\n",
              "      <td>X/1999 : Serenade (X/1999)</td>\n",
              "      <td>Clamp</td>\n",
              "      <td>1999.0</td>\n",
              "      <td>VIZ LLC</td>\n",
              "      <td>http://images.amazon.com/images/P/1569314071.0...</td>\n",
              "      <td>http://images.amazon.com/images/P/1569314071.0...</td>\n",
              "      <td>http://images.amazon.com/images/P/1569314071.0...</td>\n",
              "      <td>0.632374</td>\n",
              "    </tr>\n",
              "    <tr>\n",
              "      <th>55023</th>\n",
              "      <td>0553078755</td>\n",
              "      <td>Ishmael</td>\n",
              "      <td>Daniel Quinn</td>\n",
              "      <td>1997.0</td>\n",
              "      <td>Bantam</td>\n",
              "      <td>http://images.amazon.com/images/P/0553078755.0...</td>\n",
              "      <td>http://images.amazon.com/images/P/0553078755.0...</td>\n",
              "      <td>http://images.amazon.com/images/P/0553078755.0...</td>\n",
              "      <td>0.627738</td>\n",
              "    </tr>\n",
              "    <tr>\n",
              "      <th>72162</th>\n",
              "      <td>0152023984</td>\n",
              "      <td>The Little Prince</td>\n",
              "      <td>Antoine de Saint-ExupÃ©ry</td>\n",
              "      <td>2000.0</td>\n",
              "      <td>Harcourt Children's Books</td>\n",
              "      <td>http://images.amazon.com/images/P/0152023984.0...</td>\n",
              "      <td>http://images.amazon.com/images/P/0152023984.0...</td>\n",
              "      <td>http://images.amazon.com/images/P/0152023984.0...</td>\n",
              "      <td>0.623991</td>\n",
              "    </tr>\n",
              "  </tbody>\n",
              "</table>\n",
              "</div>\n",
              "      <button class=\"colab-df-convert\" onclick=\"convertToInteractive('df-5e454e5c-ac93-414a-ae3b-574b15c398f1')\"\n",
              "              title=\"Convert this dataframe to an interactive table.\"\n",
              "              style=\"display:none;\">\n",
              "        \n",
              "  <svg xmlns=\"http://www.w3.org/2000/svg\" height=\"24px\"viewBox=\"0 0 24 24\"\n",
              "       width=\"24px\">\n",
              "    <path d=\"M0 0h24v24H0V0z\" fill=\"none\"/>\n",
              "    <path d=\"M18.56 5.44l.94 2.06.94-2.06 2.06-.94-2.06-.94-.94-2.06-.94 2.06-2.06.94zm-11 1L8.5 8.5l.94-2.06 2.06-.94-2.06-.94L8.5 2.5l-.94 2.06-2.06.94zm10 10l.94 2.06.94-2.06 2.06-.94-2.06-.94-.94-2.06-.94 2.06-2.06.94z\"/><path d=\"M17.41 7.96l-1.37-1.37c-.4-.4-.92-.59-1.43-.59-.52 0-1.04.2-1.43.59L10.3 9.45l-7.72 7.72c-.78.78-.78 2.05 0 2.83L4 21.41c.39.39.9.59 1.41.59.51 0 1.02-.2 1.41-.59l7.78-7.78 2.81-2.81c.8-.78.8-2.07 0-2.86zM5.41 20L4 18.59l7.72-7.72 1.47 1.35L5.41 20z\"/>\n",
              "  </svg>\n",
              "      </button>\n",
              "      \n",
              "  <style>\n",
              "    .colab-df-container {\n",
              "      display:flex;\n",
              "      flex-wrap:wrap;\n",
              "      gap: 12px;\n",
              "    }\n",
              "\n",
              "    .colab-df-convert {\n",
              "      background-color: #E8F0FE;\n",
              "      border: none;\n",
              "      border-radius: 50%;\n",
              "      cursor: pointer;\n",
              "      display: none;\n",
              "      fill: #1967D2;\n",
              "      height: 32px;\n",
              "      padding: 0 0 0 0;\n",
              "      width: 32px;\n",
              "    }\n",
              "\n",
              "    .colab-df-convert:hover {\n",
              "      background-color: #E2EBFA;\n",
              "      box-shadow: 0px 1px 2px rgba(60, 64, 67, 0.3), 0px 1px 3px 1px rgba(60, 64, 67, 0.15);\n",
              "      fill: #174EA6;\n",
              "    }\n",
              "\n",
              "    [theme=dark] .colab-df-convert {\n",
              "      background-color: #3B4455;\n",
              "      fill: #D2E3FC;\n",
              "    }\n",
              "\n",
              "    [theme=dark] .colab-df-convert:hover {\n",
              "      background-color: #434B5C;\n",
              "      box-shadow: 0px 1px 3px 1px rgba(0, 0, 0, 0.15);\n",
              "      filter: drop-shadow(0px 1px 2px rgba(0, 0, 0, 0.3));\n",
              "      fill: #FFFFFF;\n",
              "    }\n",
              "  </style>\n",
              "\n",
              "      <script>\n",
              "        const buttonEl =\n",
              "          document.querySelector('#df-5e454e5c-ac93-414a-ae3b-574b15c398f1 button.colab-df-convert');\n",
              "        buttonEl.style.display =\n",
              "          google.colab.kernel.accessAllowed ? 'block' : 'none';\n",
              "\n",
              "        async function convertToInteractive(key) {\n",
              "          const element = document.querySelector('#df-5e454e5c-ac93-414a-ae3b-574b15c398f1');\n",
              "          const dataTable =\n",
              "            await google.colab.kernel.invokeFunction('convertToInteractive',\n",
              "                                                     [key], {});\n",
              "          if (!dataTable) return;\n",
              "\n",
              "          const docLinkHtml = 'Like what you see? Visit the ' +\n",
              "            '<a target=\"_blank\" href=https://colab.research.google.com/notebooks/data_table.ipynb>data table notebook</a>'\n",
              "            + ' to learn more about interactive tables.';\n",
              "          element.innerHTML = '';\n",
              "          dataTable['output_type'] = 'display_data';\n",
              "          await google.colab.output.renderOutput(dataTable, element);\n",
              "          const docLink = document.createElement('div');\n",
              "          docLink.innerHTML = docLinkHtml;\n",
              "          element.appendChild(docLink);\n",
              "        }\n",
              "      </script>\n",
              "    </div>\n",
              "  </div>\n",
              "  "
            ]
          },
          "metadata": {},
          "execution_count": 51
        }
      ],
      "source": [
        "books.sort_values('preds', ascending=False).head()"
      ]
    },
    {
      "cell_type": "code",
      "execution_count": null,
      "id": "72b6d5c8",
      "metadata": {
        "papermill": {
          "duration": 31.734137,
          "end_time": "2022-08-12T13:15:00.147676",
          "exception": false,
          "start_time": "2022-08-12T13:14:28.413539",
          "status": "completed"
        },
        "tags": [],
        "id": "72b6d5c8"
      },
      "outputs": [],
      "source": [
        "# can we predict for an existing user \n",
        "#new south wales, australia\t16.0\n",
        "\n",
        "\n"
      ]
    },
    {
      "cell_type": "code",
      "source": [
        "new_user_1 = pd.DataFrame({'Location': ['new south wales, Australia'], 'Age': [16]})\n",
        "new_user_1_preprocessed = preprocessor_users.transform(new_user_1)\n",
        "new_user_1_vector = model_users.predict(new_user_1_preprocessed)\n",
        "new_user_1_vector.shape\n",
        "\n",
        "\n",
        "\n"
      ],
      "metadata": {
        "colab": {
          "base_uri": "https://localhost:8080/"
        },
        "outputId": "ecf0c914-0a05-4532-af88-e0a41ee10aae",
        "id": "AcHj2jE_qXTn"
      },
      "execution_count": null,
      "outputs": [
        {
          "output_type": "stream",
          "name": "stdout",
          "text": [
            "1/1 [==============================] - 0s 7ms/step\n"
          ]
        },
        {
          "output_type": "execute_result",
          "data": {
            "text/plain": [
              "(1, 32)"
            ]
          },
          "metadata": {},
          "execution_count": 52
        }
      ],
      "id": "AcHj2jE_qXTn"
    },
    {
      "cell_type": "code",
      "execution_count": null,
      "metadata": {
        "execution": {
          "iopub.execute_input": "2022-08-12T13:09:57.320051Z",
          "iopub.status.busy": "2022-08-12T13:09:57.318733Z",
          "iopub.status.idle": "2022-08-12T13:10:38.625933Z",
          "shell.execute_reply": "2022-08-12T13:10:38.624465Z"
        },
        "papermill": {
          "duration": 72.164986,
          "end_time": "2022-08-12T13:10:38.629637",
          "exception": false,
          "start_time": "2022-08-12T13:09:26.464651",
          "status": "completed"
        },
        "tags": [],
        "colab": {
          "base_uri": "https://localhost:8080/"
        },
        "outputId": "6985f4fa-d99a-4f4f-fc2b-75960d51b2d7",
        "id": "boJepGovu44m"
      },
      "outputs": [
        {
          "output_type": "stream",
          "name": "stdout",
          "text": [
            "8480/8480 [==============================] - 18s 2ms/step\n"
          ]
        },
        {
          "output_type": "execute_result",
          "data": {
            "text/plain": [
              "(271360, 32)"
            ]
          },
          "metadata": {},
          "execution_count": 59
        }
      ],
      "source": [
        "all_item_preprocessed = preprocessor_items.transform(books[book_features])\n",
        "all_item_vector = model_items.predict(all_item_preprocessed)\n",
        "all_item_vector.shape\n"
      ],
      "id": "boJepGovu44m"
    },
    {
      "cell_type": "code",
      "source": [
        "new_user_vector_1 = np.broadcast_to(new_user_1_vector, all_item_vector.shape)\n",
        "preds_1 = dot_model.predict([new_user_vector_1, all_item_vector])\n",
        "books['preds_1'] = preds_1\n"
      ],
      "metadata": {
        "colab": {
          "base_uri": "https://localhost:8080/"
        },
        "id": "ozak17n4vBEM",
        "outputId": "f8d6802a-d883-4233-88b1-f59d505ecaff"
      },
      "id": "ozak17n4vBEM",
      "execution_count": null,
      "outputs": [
        {
          "output_type": "stream",
          "name": "stdout",
          "text": [
            "8480/8480 [==============================] - 12s 1ms/step\n"
          ]
        }
      ]
    },
    {
      "cell_type": "code",
      "execution_count": null,
      "metadata": {
        "execution": {
          "iopub.execute_input": "2022-08-12T13:13:56.511222Z",
          "iopub.status.busy": "2022-08-12T13:13:56.510738Z",
          "iopub.status.idle": "2022-08-12T13:13:56.730793Z",
          "shell.execute_reply": "2022-08-12T13:13:56.729241Z"
        },
        "papermill": {
          "duration": 31.182997,
          "end_time": "2022-08-12T13:13:56.733463",
          "exception": false,
          "start_time": "2022-08-12T13:13:25.550466",
          "status": "completed"
        },
        "tags": [],
        "colab": {
          "base_uri": "https://localhost:8080/",
          "height": 461
        },
        "outputId": "c4296eee-dab5-49ee-d790-7531865905db",
        "id": "-diDhDGwvsp2"
      },
      "outputs": [
        {
          "output_type": "execute_result",
          "data": {
            "text/plain": [
              "              ISBN                  Book-Title Book-Author  \\\n",
              "13580   1569314071  X/1999 : Serenade (X/1999)       Clamp   \n",
              "187089  1569318964     Fugue (X/1999, Vol. 10)       Clamp   \n",
              "13577   1591160502   X/1999, Vol. 8: Crescendo       Clamp   \n",
              "13578   156931568X    X/1999, Vol. 7: Rhapsody       Clamp   \n",
              "13579   1569314748      X/1999-Duet   (Book 6)       Clamp   \n",
              "\n",
              "        Year-Of-Publication Publisher  \\\n",
              "13580                1999.0   VIZ LLC   \n",
              "187089               2003.0   VIZ LLC   \n",
              "13577                2002.0   VIZ LLC   \n",
              "13578                2002.0   VIZ LLC   \n",
              "13579                2000.0   VIZ LLC   \n",
              "\n",
              "                                              Image-URL-S  \\\n",
              "13580   http://images.amazon.com/images/P/1569314071.0...   \n",
              "187089  http://images.amazon.com/images/P/1569318964.0...   \n",
              "13577   http://images.amazon.com/images/P/1591160502.0...   \n",
              "13578   http://images.amazon.com/images/P/156931568X.0...   \n",
              "13579   http://images.amazon.com/images/P/1569314748.0...   \n",
              "\n",
              "                                              Image-URL-M  \\\n",
              "13580   http://images.amazon.com/images/P/1569314071.0...   \n",
              "187089  http://images.amazon.com/images/P/1569318964.0...   \n",
              "13577   http://images.amazon.com/images/P/1591160502.0...   \n",
              "13578   http://images.amazon.com/images/P/156931568X.0...   \n",
              "13579   http://images.amazon.com/images/P/1569314748.0...   \n",
              "\n",
              "                                              Image-URL-L     preds   preds_1  \n",
              "13580   http://images.amazon.com/images/P/1569314071.0...  0.632374  0.805383  \n",
              "187089  http://images.amazon.com/images/P/1569318964.0...  0.635943  0.803805  \n",
              "13577   http://images.amazon.com/images/P/1591160502.0...  0.622782  0.800525  \n",
              "13578   http://images.amazon.com/images/P/156931568X.0...  0.619212  0.800041  \n",
              "13579   http://images.amazon.com/images/P/1569314748.0...  0.642263  0.799960  "
            ],
            "text/html": [
              "\n",
              "  <div id=\"df-0c094931-6b85-4fc5-8557-af81478277a4\">\n",
              "    <div class=\"colab-df-container\">\n",
              "      <div>\n",
              "<style scoped>\n",
              "    .dataframe tbody tr th:only-of-type {\n",
              "        vertical-align: middle;\n",
              "    }\n",
              "\n",
              "    .dataframe tbody tr th {\n",
              "        vertical-align: top;\n",
              "    }\n",
              "\n",
              "    .dataframe thead th {\n",
              "        text-align: right;\n",
              "    }\n",
              "</style>\n",
              "<table border=\"1\" class=\"dataframe\">\n",
              "  <thead>\n",
              "    <tr style=\"text-align: right;\">\n",
              "      <th></th>\n",
              "      <th>ISBN</th>\n",
              "      <th>Book-Title</th>\n",
              "      <th>Book-Author</th>\n",
              "      <th>Year-Of-Publication</th>\n",
              "      <th>Publisher</th>\n",
              "      <th>Image-URL-S</th>\n",
              "      <th>Image-URL-M</th>\n",
              "      <th>Image-URL-L</th>\n",
              "      <th>preds</th>\n",
              "      <th>preds_1</th>\n",
              "    </tr>\n",
              "  </thead>\n",
              "  <tbody>\n",
              "    <tr>\n",
              "      <th>13580</th>\n",
              "      <td>1569314071</td>\n",
              "      <td>X/1999 : Serenade (X/1999)</td>\n",
              "      <td>Clamp</td>\n",
              "      <td>1999.0</td>\n",
              "      <td>VIZ LLC</td>\n",
              "      <td>http://images.amazon.com/images/P/1569314071.0...</td>\n",
              "      <td>http://images.amazon.com/images/P/1569314071.0...</td>\n",
              "      <td>http://images.amazon.com/images/P/1569314071.0...</td>\n",
              "      <td>0.632374</td>\n",
              "      <td>0.805383</td>\n",
              "    </tr>\n",
              "    <tr>\n",
              "      <th>187089</th>\n",
              "      <td>1569318964</td>\n",
              "      <td>Fugue (X/1999, Vol. 10)</td>\n",
              "      <td>Clamp</td>\n",
              "      <td>2003.0</td>\n",
              "      <td>VIZ LLC</td>\n",
              "      <td>http://images.amazon.com/images/P/1569318964.0...</td>\n",
              "      <td>http://images.amazon.com/images/P/1569318964.0...</td>\n",
              "      <td>http://images.amazon.com/images/P/1569318964.0...</td>\n",
              "      <td>0.635943</td>\n",
              "      <td>0.803805</td>\n",
              "    </tr>\n",
              "    <tr>\n",
              "      <th>13577</th>\n",
              "      <td>1591160502</td>\n",
              "      <td>X/1999, Vol. 8: Crescendo</td>\n",
              "      <td>Clamp</td>\n",
              "      <td>2002.0</td>\n",
              "      <td>VIZ LLC</td>\n",
              "      <td>http://images.amazon.com/images/P/1591160502.0...</td>\n",
              "      <td>http://images.amazon.com/images/P/1591160502.0...</td>\n",
              "      <td>http://images.amazon.com/images/P/1591160502.0...</td>\n",
              "      <td>0.622782</td>\n",
              "      <td>0.800525</td>\n",
              "    </tr>\n",
              "    <tr>\n",
              "      <th>13578</th>\n",
              "      <td>156931568X</td>\n",
              "      <td>X/1999, Vol. 7: Rhapsody</td>\n",
              "      <td>Clamp</td>\n",
              "      <td>2002.0</td>\n",
              "      <td>VIZ LLC</td>\n",
              "      <td>http://images.amazon.com/images/P/156931568X.0...</td>\n",
              "      <td>http://images.amazon.com/images/P/156931568X.0...</td>\n",
              "      <td>http://images.amazon.com/images/P/156931568X.0...</td>\n",
              "      <td>0.619212</td>\n",
              "      <td>0.800041</td>\n",
              "    </tr>\n",
              "    <tr>\n",
              "      <th>13579</th>\n",
              "      <td>1569314748</td>\n",
              "      <td>X/1999-Duet   (Book 6)</td>\n",
              "      <td>Clamp</td>\n",
              "      <td>2000.0</td>\n",
              "      <td>VIZ LLC</td>\n",
              "      <td>http://images.amazon.com/images/P/1569314748.0...</td>\n",
              "      <td>http://images.amazon.com/images/P/1569314748.0...</td>\n",
              "      <td>http://images.amazon.com/images/P/1569314748.0...</td>\n",
              "      <td>0.642263</td>\n",
              "      <td>0.799960</td>\n",
              "    </tr>\n",
              "  </tbody>\n",
              "</table>\n",
              "</div>\n",
              "      <button class=\"colab-df-convert\" onclick=\"convertToInteractive('df-0c094931-6b85-4fc5-8557-af81478277a4')\"\n",
              "              title=\"Convert this dataframe to an interactive table.\"\n",
              "              style=\"display:none;\">\n",
              "        \n",
              "  <svg xmlns=\"http://www.w3.org/2000/svg\" height=\"24px\"viewBox=\"0 0 24 24\"\n",
              "       width=\"24px\">\n",
              "    <path d=\"M0 0h24v24H0V0z\" fill=\"none\"/>\n",
              "    <path d=\"M18.56 5.44l.94 2.06.94-2.06 2.06-.94-2.06-.94-.94-2.06-.94 2.06-2.06.94zm-11 1L8.5 8.5l.94-2.06 2.06-.94-2.06-.94L8.5 2.5l-.94 2.06-2.06.94zm10 10l.94 2.06.94-2.06 2.06-.94-2.06-.94-.94-2.06-.94 2.06-2.06.94z\"/><path d=\"M17.41 7.96l-1.37-1.37c-.4-.4-.92-.59-1.43-.59-.52 0-1.04.2-1.43.59L10.3 9.45l-7.72 7.72c-.78.78-.78 2.05 0 2.83L4 21.41c.39.39.9.59 1.41.59.51 0 1.02-.2 1.41-.59l7.78-7.78 2.81-2.81c.8-.78.8-2.07 0-2.86zM5.41 20L4 18.59l7.72-7.72 1.47 1.35L5.41 20z\"/>\n",
              "  </svg>\n",
              "      </button>\n",
              "      \n",
              "  <style>\n",
              "    .colab-df-container {\n",
              "      display:flex;\n",
              "      flex-wrap:wrap;\n",
              "      gap: 12px;\n",
              "    }\n",
              "\n",
              "    .colab-df-convert {\n",
              "      background-color: #E8F0FE;\n",
              "      border: none;\n",
              "      border-radius: 50%;\n",
              "      cursor: pointer;\n",
              "      display: none;\n",
              "      fill: #1967D2;\n",
              "      height: 32px;\n",
              "      padding: 0 0 0 0;\n",
              "      width: 32px;\n",
              "    }\n",
              "\n",
              "    .colab-df-convert:hover {\n",
              "      background-color: #E2EBFA;\n",
              "      box-shadow: 0px 1px 2px rgba(60, 64, 67, 0.3), 0px 1px 3px 1px rgba(60, 64, 67, 0.15);\n",
              "      fill: #174EA6;\n",
              "    }\n",
              "\n",
              "    [theme=dark] .colab-df-convert {\n",
              "      background-color: #3B4455;\n",
              "      fill: #D2E3FC;\n",
              "    }\n",
              "\n",
              "    [theme=dark] .colab-df-convert:hover {\n",
              "      background-color: #434B5C;\n",
              "      box-shadow: 0px 1px 3px 1px rgba(0, 0, 0, 0.15);\n",
              "      filter: drop-shadow(0px 1px 2px rgba(0, 0, 0, 0.3));\n",
              "      fill: #FFFFFF;\n",
              "    }\n",
              "  </style>\n",
              "\n",
              "      <script>\n",
              "        const buttonEl =\n",
              "          document.querySelector('#df-0c094931-6b85-4fc5-8557-af81478277a4 button.colab-df-convert');\n",
              "        buttonEl.style.display =\n",
              "          google.colab.kernel.accessAllowed ? 'block' : 'none';\n",
              "\n",
              "        async function convertToInteractive(key) {\n",
              "          const element = document.querySelector('#df-0c094931-6b85-4fc5-8557-af81478277a4');\n",
              "          const dataTable =\n",
              "            await google.colab.kernel.invokeFunction('convertToInteractive',\n",
              "                                                     [key], {});\n",
              "          if (!dataTable) return;\n",
              "\n",
              "          const docLinkHtml = 'Like what you see? Visit the ' +\n",
              "            '<a target=\"_blank\" href=https://colab.research.google.com/notebooks/data_table.ipynb>data table notebook</a>'\n",
              "            + ' to learn more about interactive tables.';\n",
              "          element.innerHTML = '';\n",
              "          dataTable['output_type'] = 'display_data';\n",
              "          await google.colab.output.renderOutput(dataTable, element);\n",
              "          const docLink = document.createElement('div');\n",
              "          docLink.innerHTML = docLinkHtml;\n",
              "          element.appendChild(docLink);\n",
              "        }\n",
              "      </script>\n",
              "    </div>\n",
              "  </div>\n",
              "  "
            ]
          },
          "metadata": {},
          "execution_count": 56
        }
      ],
      "source": [
        "books.sort_values('preds_1', ascending=False).head()\n",
        "#books.sort_values('preds', ascending=False).head()"
      ],
      "id": "-diDhDGwvsp2"
    },
    {
      "cell_type": "code",
      "source": [
        "new_ratings.loc[new_ratings['User-ID']==276727]\n",
        "#one epoch need to add more "
      ],
      "metadata": {
        "colab": {
          "base_uri": "https://localhost:8080/",
          "height": 214
        },
        "id": "3yRziuO2yawt",
        "outputId": "a274e12b-b711-45b3-c546-3658e34466a3"
      },
      "id": "3yRziuO2yawt",
      "execution_count": null,
      "outputs": [
        {
          "output_type": "execute_result",
          "data": {
            "text/plain": [
              "   User-ID        ISBN  Book-Rating                       Location   Age  \\\n",
              "2   276727  0446520802            0  h, new south wales, australia  16.0   \n",
              "\n",
              "     Book-Title      Book-Author  Year-Of-Publication     Publisher  \\\n",
              "2  The Notebook  Nicholas Sparks               1996.0  Warner Books   \n",
              "\n",
              "                                         Image-URL-S  \\\n",
              "2  http://images.amazon.com/images/P/0446520802.0...   \n",
              "\n",
              "                                         Image-URL-M  \\\n",
              "2  http://images.amazon.com/images/P/0446520802.0...   \n",
              "\n",
              "                                         Image-URL-L  \n",
              "2  http://images.amazon.com/images/P/0446520802.0...  "
            ],
            "text/html": [
              "\n",
              "  <div id=\"df-f9913c2e-aaa3-4ad4-805e-bc4e4bdadb1a\">\n",
              "    <div class=\"colab-df-container\">\n",
              "      <div>\n",
              "<style scoped>\n",
              "    .dataframe tbody tr th:only-of-type {\n",
              "        vertical-align: middle;\n",
              "    }\n",
              "\n",
              "    .dataframe tbody tr th {\n",
              "        vertical-align: top;\n",
              "    }\n",
              "\n",
              "    .dataframe thead th {\n",
              "        text-align: right;\n",
              "    }\n",
              "</style>\n",
              "<table border=\"1\" class=\"dataframe\">\n",
              "  <thead>\n",
              "    <tr style=\"text-align: right;\">\n",
              "      <th></th>\n",
              "      <th>User-ID</th>\n",
              "      <th>ISBN</th>\n",
              "      <th>Book-Rating</th>\n",
              "      <th>Location</th>\n",
              "      <th>Age</th>\n",
              "      <th>Book-Title</th>\n",
              "      <th>Book-Author</th>\n",
              "      <th>Year-Of-Publication</th>\n",
              "      <th>Publisher</th>\n",
              "      <th>Image-URL-S</th>\n",
              "      <th>Image-URL-M</th>\n",
              "      <th>Image-URL-L</th>\n",
              "    </tr>\n",
              "  </thead>\n",
              "  <tbody>\n",
              "    <tr>\n",
              "      <th>2</th>\n",
              "      <td>276727</td>\n",
              "      <td>0446520802</td>\n",
              "      <td>0</td>\n",
              "      <td>h, new south wales, australia</td>\n",
              "      <td>16.0</td>\n",
              "      <td>The Notebook</td>\n",
              "      <td>Nicholas Sparks</td>\n",
              "      <td>1996.0</td>\n",
              "      <td>Warner Books</td>\n",
              "      <td>http://images.amazon.com/images/P/0446520802.0...</td>\n",
              "      <td>http://images.amazon.com/images/P/0446520802.0...</td>\n",
              "      <td>http://images.amazon.com/images/P/0446520802.0...</td>\n",
              "    </tr>\n",
              "  </tbody>\n",
              "</table>\n",
              "</div>\n",
              "      <button class=\"colab-df-convert\" onclick=\"convertToInteractive('df-f9913c2e-aaa3-4ad4-805e-bc4e4bdadb1a')\"\n",
              "              title=\"Convert this dataframe to an interactive table.\"\n",
              "              style=\"display:none;\">\n",
              "        \n",
              "  <svg xmlns=\"http://www.w3.org/2000/svg\" height=\"24px\"viewBox=\"0 0 24 24\"\n",
              "       width=\"24px\">\n",
              "    <path d=\"M0 0h24v24H0V0z\" fill=\"none\"/>\n",
              "    <path d=\"M18.56 5.44l.94 2.06.94-2.06 2.06-.94-2.06-.94-.94-2.06-.94 2.06-2.06.94zm-11 1L8.5 8.5l.94-2.06 2.06-.94-2.06-.94L8.5 2.5l-.94 2.06-2.06.94zm10 10l.94 2.06.94-2.06 2.06-.94-2.06-.94-.94-2.06-.94 2.06-2.06.94z\"/><path d=\"M17.41 7.96l-1.37-1.37c-.4-.4-.92-.59-1.43-.59-.52 0-1.04.2-1.43.59L10.3 9.45l-7.72 7.72c-.78.78-.78 2.05 0 2.83L4 21.41c.39.39.9.59 1.41.59.51 0 1.02-.2 1.41-.59l7.78-7.78 2.81-2.81c.8-.78.8-2.07 0-2.86zM5.41 20L4 18.59l7.72-7.72 1.47 1.35L5.41 20z\"/>\n",
              "  </svg>\n",
              "      </button>\n",
              "      \n",
              "  <style>\n",
              "    .colab-df-container {\n",
              "      display:flex;\n",
              "      flex-wrap:wrap;\n",
              "      gap: 12px;\n",
              "    }\n",
              "\n",
              "    .colab-df-convert {\n",
              "      background-color: #E8F0FE;\n",
              "      border: none;\n",
              "      border-radius: 50%;\n",
              "      cursor: pointer;\n",
              "      display: none;\n",
              "      fill: #1967D2;\n",
              "      height: 32px;\n",
              "      padding: 0 0 0 0;\n",
              "      width: 32px;\n",
              "    }\n",
              "\n",
              "    .colab-df-convert:hover {\n",
              "      background-color: #E2EBFA;\n",
              "      box-shadow: 0px 1px 2px rgba(60, 64, 67, 0.3), 0px 1px 3px 1px rgba(60, 64, 67, 0.15);\n",
              "      fill: #174EA6;\n",
              "    }\n",
              "\n",
              "    [theme=dark] .colab-df-convert {\n",
              "      background-color: #3B4455;\n",
              "      fill: #D2E3FC;\n",
              "    }\n",
              "\n",
              "    [theme=dark] .colab-df-convert:hover {\n",
              "      background-color: #434B5C;\n",
              "      box-shadow: 0px 1px 3px 1px rgba(0, 0, 0, 0.15);\n",
              "      filter: drop-shadow(0px 1px 2px rgba(0, 0, 0, 0.3));\n",
              "      fill: #FFFFFF;\n",
              "    }\n",
              "  </style>\n",
              "\n",
              "      <script>\n",
              "        const buttonEl =\n",
              "          document.querySelector('#df-f9913c2e-aaa3-4ad4-805e-bc4e4bdadb1a button.colab-df-convert');\n",
              "        buttonEl.style.display =\n",
              "          google.colab.kernel.accessAllowed ? 'block' : 'none';\n",
              "\n",
              "        async function convertToInteractive(key) {\n",
              "          const element = document.querySelector('#df-f9913c2e-aaa3-4ad4-805e-bc4e4bdadb1a');\n",
              "          const dataTable =\n",
              "            await google.colab.kernel.invokeFunction('convertToInteractive',\n",
              "                                                     [key], {});\n",
              "          if (!dataTable) return;\n",
              "\n",
              "          const docLinkHtml = 'Like what you see? Visit the ' +\n",
              "            '<a target=\"_blank\" href=https://colab.research.google.com/notebooks/data_table.ipynb>data table notebook</a>'\n",
              "            + ' to learn more about interactive tables.';\n",
              "          element.innerHTML = '';\n",
              "          dataTable['output_type'] = 'display_data';\n",
              "          await google.colab.output.renderOutput(dataTable, element);\n",
              "          const docLink = document.createElement('div');\n",
              "          docLink.innerHTML = docLinkHtml;\n",
              "          element.appendChild(docLink);\n",
              "        }\n",
              "      </script>\n",
              "    </div>\n",
              "  </div>\n",
              "  "
            ]
          },
          "metadata": {},
          "execution_count": 57
        }
      ]
    },
    {
      "cell_type": "markdown",
      "source": [
        "we have seen that the model couldn't predictfor user with a zero rating lets try for for a user with a better book _rating\n"
      ],
      "metadata": {
        "id": "HrxjT2G_fYvu"
      },
      "id": "HrxjT2G_fYvu"
    },
    {
      "cell_type": "code",
      "source": [],
      "metadata": {
        "id": "tkDuhKUKUkiq"
      },
      "id": "tkDuhKUKUkiq",
      "execution_count": null,
      "outputs": []
    },
    {
      "cell_type": "code",
      "source": [
        "new_user_2 = pd.DataFrame({'Location': ['seattle, washington, usa'], 'Age': [30]})\n",
        "new_user_2_preprocessed = preprocessor_users.transform(new_user_2)\n",
        "new_user_2_vector = model_users.predict(new_user_2_preprocessed)\n",
        "new_user_2_vector.shape\n"
      ],
      "metadata": {
        "colab": {
          "base_uri": "https://localhost:8080/"
        },
        "outputId": "295341e1-9126-4f41-be1a-89866454878d",
        "id": "gHn8lkrVUosR"
      },
      "execution_count": null,
      "outputs": [
        {
          "output_type": "stream",
          "name": "stdout",
          "text": [
            "1/1 [==============================] - 0s 23ms/step\n"
          ]
        },
        {
          "output_type": "execute_result",
          "data": {
            "text/plain": [
              "(1, 32)"
            ]
          },
          "metadata": {},
          "execution_count": 58
        }
      ],
      "id": "gHn8lkrVUosR"
    },
    {
      "cell_type": "code",
      "source": [
        "all_item_preprocessed = preprocessor_items.transform(books[book_features])\n",
        "all_item_vector = model_items.predict(all_item_preprocessed)\n",
        "all_item_vector.shape"
      ],
      "metadata": {
        "id": "METrs6YLVVxR"
      },
      "id": "METrs6YLVVxR",
      "execution_count": null,
      "outputs": []
    },
    {
      "cell_type": "code",
      "source": [
        "new_user_vector_2 = np.broadcast_to(new_user_2_vector, all_item_vector.shape)\n",
        "preds_2 = dot_model.predict([new_user_vector_2, all_item_vector])\n",
        "books['preds_2'] = preds_2"
      ],
      "metadata": {
        "colab": {
          "base_uri": "https://localhost:8080/"
        },
        "id": "nY-QC7vkVf9q",
        "outputId": "6a5177e4-0120-4c65-9d71-63ede55b5a23"
      },
      "id": "nY-QC7vkVf9q",
      "execution_count": null,
      "outputs": [
        {
          "output_type": "stream",
          "name": "stdout",
          "text": [
            "8480/8480 [==============================] - 11s 1ms/step\n"
          ]
        }
      ]
    },
    {
      "cell_type": "code",
      "source": [
        "books.sort_values('preds_2', ascending=False).head()"
      ],
      "metadata": {
        "colab": {
          "base_uri": "https://localhost:8080/",
          "height": 756
        },
        "id": "XVBsW4sYVp95",
        "outputId": "e572d628-99d9-4827-c0a9-a7d2b274dc88"
      },
      "id": "XVBsW4sYVp95",
      "execution_count": null,
      "outputs": [
        {
          "output_type": "execute_result",
          "data": {
            "text/plain": [
              "              ISBN                                         Book-Title  \\\n",
              "15175   1563893304                       Kingdom Come (Graphic Novel)   \n",
              "117469  1569317674  Zoids Chaotic Century (Zoids: Chaotic Century ...   \n",
              "117471  1569317666  Zoids Chaotic Century (Zoids: Chaotic Century ...   \n",
              "117473  1569317658  Zoids Chaotic Century (Zoids: Chaotic Century ...   \n",
              "117468  1569317682  Zoids Chaotic Century (Zoids: Chaotic Century ...   \n",
              "\n",
              "           Book-Author  Year-Of-Publication   Publisher  \\\n",
              "15175        Mark Waid               1997.0   DC Comics   \n",
              "117469  Michiro Ueyama               2002.0  Viz Comics   \n",
              "117471  Michiro Ueyama               2002.0  Viz Comics   \n",
              "117473  Michiro Ueyama               2002.0  Viz Comics   \n",
              "117468  Michiro Ueyama               2002.0  Viz Comics   \n",
              "\n",
              "                                              Image-URL-S  \\\n",
              "15175   http://images.amazon.com/images/P/1563893304.0...   \n",
              "117469  http://images.amazon.com/images/P/1569317674.0...   \n",
              "117471  http://images.amazon.com/images/P/1569317666.0...   \n",
              "117473  http://images.amazon.com/images/P/1569317658.0...   \n",
              "117468  http://images.amazon.com/images/P/1569317682.0...   \n",
              "\n",
              "                                              Image-URL-M  \\\n",
              "15175   http://images.amazon.com/images/P/1563893304.0...   \n",
              "117469  http://images.amazon.com/images/P/1569317674.0...   \n",
              "117471  http://images.amazon.com/images/P/1569317666.0...   \n",
              "117473  http://images.amazon.com/images/P/1569317658.0...   \n",
              "117468  http://images.amazon.com/images/P/1569317682.0...   \n",
              "\n",
              "                                              Image-URL-L     preds   preds_1  \\\n",
              "15175   http://images.amazon.com/images/P/1563893304.0...  0.611627  0.778074   \n",
              "117469  http://images.amazon.com/images/P/1569317674.0...  0.605594  0.762183   \n",
              "117471  http://images.amazon.com/images/P/1569317666.0...  0.605594  0.762183   \n",
              "117473  http://images.amazon.com/images/P/1569317658.0...  0.605594  0.762183   \n",
              "117468  http://images.amazon.com/images/P/1569317682.0...  0.605594  0.762183   \n",
              "\n",
              "         preds_2  \n",
              "15175   0.622985  \n",
              "117469  0.607228  \n",
              "117471  0.607228  \n",
              "117473  0.607228  \n",
              "117468  0.607228  "
            ],
            "text/html": [
              "\n",
              "  <div id=\"df-5f695759-fe8d-4308-9374-210a6ff3810e\">\n",
              "    <div class=\"colab-df-container\">\n",
              "      <div>\n",
              "<style scoped>\n",
              "    .dataframe tbody tr th:only-of-type {\n",
              "        vertical-align: middle;\n",
              "    }\n",
              "\n",
              "    .dataframe tbody tr th {\n",
              "        vertical-align: top;\n",
              "    }\n",
              "\n",
              "    .dataframe thead th {\n",
              "        text-align: right;\n",
              "    }\n",
              "</style>\n",
              "<table border=\"1\" class=\"dataframe\">\n",
              "  <thead>\n",
              "    <tr style=\"text-align: right;\">\n",
              "      <th></th>\n",
              "      <th>ISBN</th>\n",
              "      <th>Book-Title</th>\n",
              "      <th>Book-Author</th>\n",
              "      <th>Year-Of-Publication</th>\n",
              "      <th>Publisher</th>\n",
              "      <th>Image-URL-S</th>\n",
              "      <th>Image-URL-M</th>\n",
              "      <th>Image-URL-L</th>\n",
              "      <th>preds</th>\n",
              "      <th>preds_1</th>\n",
              "      <th>preds_2</th>\n",
              "    </tr>\n",
              "  </thead>\n",
              "  <tbody>\n",
              "    <tr>\n",
              "      <th>15175</th>\n",
              "      <td>1563893304</td>\n",
              "      <td>Kingdom Come (Graphic Novel)</td>\n",
              "      <td>Mark Waid</td>\n",
              "      <td>1997.0</td>\n",
              "      <td>DC Comics</td>\n",
              "      <td>http://images.amazon.com/images/P/1563893304.0...</td>\n",
              "      <td>http://images.amazon.com/images/P/1563893304.0...</td>\n",
              "      <td>http://images.amazon.com/images/P/1563893304.0...</td>\n",
              "      <td>0.611627</td>\n",
              "      <td>0.778074</td>\n",
              "      <td>0.622985</td>\n",
              "    </tr>\n",
              "    <tr>\n",
              "      <th>117469</th>\n",
              "      <td>1569317674</td>\n",
              "      <td>Zoids Chaotic Century (Zoids: Chaotic Century ...</td>\n",
              "      <td>Michiro Ueyama</td>\n",
              "      <td>2002.0</td>\n",
              "      <td>Viz Comics</td>\n",
              "      <td>http://images.amazon.com/images/P/1569317674.0...</td>\n",
              "      <td>http://images.amazon.com/images/P/1569317674.0...</td>\n",
              "      <td>http://images.amazon.com/images/P/1569317674.0...</td>\n",
              "      <td>0.605594</td>\n",
              "      <td>0.762183</td>\n",
              "      <td>0.607228</td>\n",
              "    </tr>\n",
              "    <tr>\n",
              "      <th>117471</th>\n",
              "      <td>1569317666</td>\n",
              "      <td>Zoids Chaotic Century (Zoids: Chaotic Century ...</td>\n",
              "      <td>Michiro Ueyama</td>\n",
              "      <td>2002.0</td>\n",
              "      <td>Viz Comics</td>\n",
              "      <td>http://images.amazon.com/images/P/1569317666.0...</td>\n",
              "      <td>http://images.amazon.com/images/P/1569317666.0...</td>\n",
              "      <td>http://images.amazon.com/images/P/1569317666.0...</td>\n",
              "      <td>0.605594</td>\n",
              "      <td>0.762183</td>\n",
              "      <td>0.607228</td>\n",
              "    </tr>\n",
              "    <tr>\n",
              "      <th>117473</th>\n",
              "      <td>1569317658</td>\n",
              "      <td>Zoids Chaotic Century (Zoids: Chaotic Century ...</td>\n",
              "      <td>Michiro Ueyama</td>\n",
              "      <td>2002.0</td>\n",
              "      <td>Viz Comics</td>\n",
              "      <td>http://images.amazon.com/images/P/1569317658.0...</td>\n",
              "      <td>http://images.amazon.com/images/P/1569317658.0...</td>\n",
              "      <td>http://images.amazon.com/images/P/1569317658.0...</td>\n",
              "      <td>0.605594</td>\n",
              "      <td>0.762183</td>\n",
              "      <td>0.607228</td>\n",
              "    </tr>\n",
              "    <tr>\n",
              "      <th>117468</th>\n",
              "      <td>1569317682</td>\n",
              "      <td>Zoids Chaotic Century (Zoids: Chaotic Century ...</td>\n",
              "      <td>Michiro Ueyama</td>\n",
              "      <td>2002.0</td>\n",
              "      <td>Viz Comics</td>\n",
              "      <td>http://images.amazon.com/images/P/1569317682.0...</td>\n",
              "      <td>http://images.amazon.com/images/P/1569317682.0...</td>\n",
              "      <td>http://images.amazon.com/images/P/1569317682.0...</td>\n",
              "      <td>0.605594</td>\n",
              "      <td>0.762183</td>\n",
              "      <td>0.607228</td>\n",
              "    </tr>\n",
              "  </tbody>\n",
              "</table>\n",
              "</div>\n",
              "      <button class=\"colab-df-convert\" onclick=\"convertToInteractive('df-5f695759-fe8d-4308-9374-210a6ff3810e')\"\n",
              "              title=\"Convert this dataframe to an interactive table.\"\n",
              "              style=\"display:none;\">\n",
              "        \n",
              "  <svg xmlns=\"http://www.w3.org/2000/svg\" height=\"24px\"viewBox=\"0 0 24 24\"\n",
              "       width=\"24px\">\n",
              "    <path d=\"M0 0h24v24H0V0z\" fill=\"none\"/>\n",
              "    <path d=\"M18.56 5.44l.94 2.06.94-2.06 2.06-.94-2.06-.94-.94-2.06-.94 2.06-2.06.94zm-11 1L8.5 8.5l.94-2.06 2.06-.94-2.06-.94L8.5 2.5l-.94 2.06-2.06.94zm10 10l.94 2.06.94-2.06 2.06-.94-2.06-.94-.94-2.06-.94 2.06-2.06.94z\"/><path d=\"M17.41 7.96l-1.37-1.37c-.4-.4-.92-.59-1.43-.59-.52 0-1.04.2-1.43.59L10.3 9.45l-7.72 7.72c-.78.78-.78 2.05 0 2.83L4 21.41c.39.39.9.59 1.41.59.51 0 1.02-.2 1.41-.59l7.78-7.78 2.81-2.81c.8-.78.8-2.07 0-2.86zM5.41 20L4 18.59l7.72-7.72 1.47 1.35L5.41 20z\"/>\n",
              "  </svg>\n",
              "      </button>\n",
              "      \n",
              "  <style>\n",
              "    .colab-df-container {\n",
              "      display:flex;\n",
              "      flex-wrap:wrap;\n",
              "      gap: 12px;\n",
              "    }\n",
              "\n",
              "    .colab-df-convert {\n",
              "      background-color: #E8F0FE;\n",
              "      border: none;\n",
              "      border-radius: 50%;\n",
              "      cursor: pointer;\n",
              "      display: none;\n",
              "      fill: #1967D2;\n",
              "      height: 32px;\n",
              "      padding: 0 0 0 0;\n",
              "      width: 32px;\n",
              "    }\n",
              "\n",
              "    .colab-df-convert:hover {\n",
              "      background-color: #E2EBFA;\n",
              "      box-shadow: 0px 1px 2px rgba(60, 64, 67, 0.3), 0px 1px 3px 1px rgba(60, 64, 67, 0.15);\n",
              "      fill: #174EA6;\n",
              "    }\n",
              "\n",
              "    [theme=dark] .colab-df-convert {\n",
              "      background-color: #3B4455;\n",
              "      fill: #D2E3FC;\n",
              "    }\n",
              "\n",
              "    [theme=dark] .colab-df-convert:hover {\n",
              "      background-color: #434B5C;\n",
              "      box-shadow: 0px 1px 3px 1px rgba(0, 0, 0, 0.15);\n",
              "      filter: drop-shadow(0px 1px 2px rgba(0, 0, 0, 0.3));\n",
              "      fill: #FFFFFF;\n",
              "    }\n",
              "  </style>\n",
              "\n",
              "      <script>\n",
              "        const buttonEl =\n",
              "          document.querySelector('#df-5f695759-fe8d-4308-9374-210a6ff3810e button.colab-df-convert');\n",
              "        buttonEl.style.display =\n",
              "          google.colab.kernel.accessAllowed ? 'block' : 'none';\n",
              "\n",
              "        async function convertToInteractive(key) {\n",
              "          const element = document.querySelector('#df-5f695759-fe8d-4308-9374-210a6ff3810e');\n",
              "          const dataTable =\n",
              "            await google.colab.kernel.invokeFunction('convertToInteractive',\n",
              "                                                     [key], {});\n",
              "          if (!dataTable) return;\n",
              "\n",
              "          const docLinkHtml = 'Like what you see? Visit the ' +\n",
              "            '<a target=\"_blank\" href=https://colab.research.google.com/notebooks/data_table.ipynb>data table notebook</a>'\n",
              "            + ' to learn more about interactive tables.';\n",
              "          element.innerHTML = '';\n",
              "          dataTable['output_type'] = 'display_data';\n",
              "          await google.colab.output.renderOutput(dataTable, element);\n",
              "          const docLink = document.createElement('div');\n",
              "          docLink.innerHTML = docLinkHtml;\n",
              "          element.appendChild(docLink);\n",
              "        }\n",
              "      </script>\n",
              "    </div>\n",
              "  </div>\n",
              "  "
            ]
          },
          "metadata": {},
          "execution_count": 60
        }
      ]
    }
  ],
  "metadata": {
    "kernelspec": {
      "display_name": "Python 3",
      "language": "python",
      "name": "python3"
    },
    "language_info": {
      "codemirror_mode": {
        "name": "ipython",
        "version": 3
      },
      "file_extension": ".py",
      "mimetype": "text/x-python",
      "name": "python",
      "nbconvert_exporter": "python",
      "pygments_lexer": "ipython3",
      "version": "3.7.12"
    },
    "papermill": {
      "default_parameters": {},
      "duration": 25014.175375,
      "end_time": "2022-08-12T13:15:35.172135",
      "environment_variables": {},
      "exception": null,
      "input_path": "__notebook__.ipynb",
      "output_path": "__notebook__.ipynb",
      "parameters": {},
      "start_time": "2022-08-12T06:18:40.996760",
      "version": "2.3.4"
    },
    "colab": {
      "provenance": []
    },
    "accelerator": "GPU",
    "gpuClass": "standard"
  },
  "nbformat": 4,
  "nbformat_minor": 5
}